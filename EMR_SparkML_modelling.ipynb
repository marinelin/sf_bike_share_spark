{
 "cells": [
  {
   "cell_type": "code",
   "execution_count": 1,
   "metadata": {
    "scrolled": false
   },
   "outputs": [
    {
     "data": {
      "application/vnd.jupyter.widget-view+json": {
       "model_id": "",
       "version_major": 2,
       "version_minor": 0
      },
      "text/plain": [
       "VBox()"
      ]
     },
     "metadata": {},
     "output_type": "display_data"
    },
    {
     "name": "stdout",
     "output_type": "stream",
     "text": [
      "Starting Spark application\n"
     ]
    },
    {
     "data": {
      "text/html": [
       "<table>\n",
       "<tr><th>ID</th><th>YARN Application ID</th><th>Kind</th><th>State</th><th>Spark UI</th><th>Driver log</th><th>Current session?</th></tr><tr><td>3</td><td>application_1579212841840_0004</td><td>pyspark</td><td>idle</td><td><a target=\"_blank\" href=\"http://ip-172-31-17-185.us-west-1.compute.internal:20888/proxy/application_1579212841840_0004/\">Link</a></td><td><a target=\"_blank\" href=\"http://ip-172-31-29-90.us-west-1.compute.internal:8042/node/containerlogs/container_1579212841840_0004_01_000001/livy\">Link</a></td><td>✔</td></tr></table>"
      ],
      "text/plain": [
       "<IPython.core.display.HTML object>"
      ]
     },
     "metadata": {},
     "output_type": "display_data"
    },
    {
     "data": {
      "application/vnd.jupyter.widget-view+json": {
       "model_id": "",
       "version_major": 2,
       "version_minor": 0
      },
      "text/plain": [
       "FloatProgress(value=0.0, bar_style='info', description='Progress:', layout=Layout(height='25px', width='50%'),…"
      ]
     },
     "metadata": {},
     "output_type": "display_data"
    },
    {
     "name": "stdout",
     "output_type": "stream",
     "text": [
      "SparkSession available as 'spark'.\n"
     ]
    },
    {
     "data": {
      "application/vnd.jupyter.widget-view+json": {
       "model_id": "",
       "version_major": 2,
       "version_minor": 0
      },
      "text/plain": [
       "FloatProgress(value=0.0, bar_style='info', description='Progress:', layout=Layout(height='25px', width='50%'),…"
      ]
     },
     "metadata": {},
     "output_type": "display_data"
    }
   ],
   "source": [
    "from pyspark import SparkContext\n",
    "from datetime import datetime\n",
    "from dateutil.parser import parse\n",
    "from pyspark.sql.functions import udf, to_date, to_utc_timestamp\n",
    "import numpy as np"
   ]
  },
  {
   "cell_type": "code",
   "execution_count": 2,
   "metadata": {},
   "outputs": [
    {
     "data": {
      "application/vnd.jupyter.widget-view+json": {
       "model_id": "",
       "version_major": 2,
       "version_minor": 0
      },
      "text/plain": [
       "VBox()"
      ]
     },
     "metadata": {},
     "output_type": "display_data"
    },
    {
     "data": {
      "application/vnd.jupyter.widget-view+json": {
       "model_id": "",
       "version_major": 2,
       "version_minor": 0
      },
      "text/plain": [
       "FloatProgress(value=0.0, bar_style='info', description='Progress:', layout=Layout(height='25px', width='50%'),…"
      ]
     },
     "metadata": {},
     "output_type": "display_data"
    }
   ],
   "source": [
    "from pyspark.sql import SparkSession\n",
    "from pyspark.sql import Row\n",
    "from pyspark.sql.types import *\n",
    "\n",
    "\n",
    "from pyspark.ml.feature import VectorAssembler\n",
    "from pyspark.ml.evaluation import MulticlassClassificationEvaluator\n",
    "from pyspark.ml.classification import GBTClassifier\n",
    "\n",
    "\n",
    "ss = SparkSession.builder.getOrCreate()"
   ]
  },
  {
   "cell_type": "code",
   "execution_count": 3,
   "metadata": {},
   "outputs": [
    {
     "data": {
      "application/vnd.jupyter.widget-view+json": {
       "model_id": "",
       "version_major": 2,
       "version_minor": 0
      },
      "text/plain": [
       "VBox()"
      ]
     },
     "metadata": {},
     "output_type": "display_data"
    },
    {
     "data": {
      "application/vnd.jupyter.widget-view+json": {
       "model_id": "",
       "version_major": 2,
       "version_minor": 0
      },
      "text/plain": [
       "FloatProgress(value=0.0, bar_style='info', description='Progress:', layout=Layout(height='25px', width='50%'),…"
      ]
     },
     "metadata": {},
     "output_type": "display_data"
    }
   ],
   "source": [
    "from pyspark.sql import SQLContext\n",
    "from pyspark.sql.types import *\n",
    "from pyspark.sql.functions import *"
   ]
  },
  {
   "cell_type": "code",
   "execution_count": 4,
   "metadata": {},
   "outputs": [
    {
     "data": {
      "application/vnd.jupyter.widget-view+json": {
       "model_id": "",
       "version_major": 2,
       "version_minor": 0
      },
      "text/plain": [
       "VBox()"
      ]
     },
     "metadata": {},
     "output_type": "display_data"
    },
    {
     "data": {
      "application/vnd.jupyter.widget-view+json": {
       "model_id": "",
       "version_major": 2,
       "version_minor": 0
      },
      "text/plain": [
       "FloatProgress(value=0.0, bar_style='info', description='Progress:', layout=Layout(height='25px', width='50%'),…"
      ]
     },
     "metadata": {},
     "output_type": "display_data"
    }
   ],
   "source": [
    "station_path = 's3://msds694.proj/data/station.csv'\n",
    "status_path = 's3://msds694.proj/data/status.csv'\n",
    "trip_path = 's3://msds694.proj/data/trip.csv'\n",
    "weather_path = 's3://msds694.proj/data/weather.csv'\n",
    "population_path = 's3://msds694.proj/data/station_population.csv' "
   ]
  },
  {
   "cell_type": "code",
   "execution_count": 104,
   "metadata": {},
   "outputs": [
    {
     "data": {
      "application/vnd.jupyter.widget-view+json": {
       "model_id": "5c12d4f6972440579a2e3ed5fb522470",
       "version_major": 2,
       "version_minor": 0
      },
      "text/plain": [
       "VBox()"
      ]
     },
     "metadata": {},
     "output_type": "display_data"
    },
    {
     "data": {
      "application/vnd.jupyter.widget-view+json": {
       "model_id": "",
       "version_major": 2,
       "version_minor": 0
      },
      "text/plain": [
       "FloatProgress(value=0.0, bar_style='info', description='Progress:', layout=Layout(height='25px', width='50%'),…"
      ]
     },
     "metadata": {},
     "output_type": "display_data"
    }
   ],
   "source": [
    "station_population=sc.textFile(population_path).map(lambda x:x.split(','))#.map(lambda x:[x[0],x[]])\n",
    "station_population = station_population.toDF()"
   ]
  },
  {
   "cell_type": "code",
   "execution_count": 97,
   "metadata": {
    "scrolled": true
   },
   "outputs": [
    {
     "data": {
      "application/vnd.jupyter.widget-view+json": {
       "model_id": "c0df7f3fbb0749fd9a582d84a2860f1f",
       "version_major": 2,
       "version_minor": 0
      },
      "text/plain": [
       "VBox()"
      ]
     },
     "metadata": {},
     "output_type": "display_data"
    },
    {
     "data": {
      "application/vnd.jupyter.widget-view+json": {
       "model_id": "",
       "version_major": 2,
       "version_minor": 0
      },
      "text/plain": [
       "FloatProgress(value=0.0, bar_style='info', description='Progress:', layout=Layout(height='25px', width='50%'),…"
      ]
     },
     "metadata": {},
     "output_type": "display_data"
    }
   ],
   "source": [
    "# station_population=ss.read.csv(population_path,header=True)"
   ]
  },
  {
   "cell_type": "code",
   "execution_count": 99,
   "metadata": {
    "scrolled": false
   },
   "outputs": [
    {
     "data": {
      "application/vnd.jupyter.widget-view+json": {
       "model_id": "6d5d412400bd43f6b0bb5a377fbd6754",
       "version_major": 2,
       "version_minor": 0
      },
      "text/plain": [
       "VBox()"
      ]
     },
     "metadata": {},
     "output_type": "display_data"
    },
    {
     "data": {
      "application/vnd.jupyter.widget-view+json": {
       "model_id": "",
       "version_major": 2,
       "version_minor": 0
      },
      "text/plain": [
       "FloatProgress(value=0.0, bar_style='info', description='Progress:', layout=Layout(height='25px', width='50%'),…"
      ]
     },
     "metadata": {},
     "output_type": "display_data"
    },
    {
     "name": "stdout",
     "output_type": "stream",
     "text": [
      "+---+--------------------+---------+----------+----------+--------+-----------------+----------+----+\n",
      "| id|                name|      lat|      long|dock_count|    city|installation_date|population| _c8|\n",
      "+---+--------------------+---------+----------+----------+--------+-----------------+----------+----+\n",
      "|  2|San Jose Diridon ...|37.329732|-121.90178|        27|San Jose|           8/6/13|      null|null|\n",
      "|  3|San Jose Civic Ce...|37.330698|-121.88898|        15|San Jose|           8/5/13|      null|null|\n",
      "|  4|Santa Clara at Al...|37.333988| -121.8949|        11|San Jose|           8/6/13|      null|null|\n",
      "|  5|    Adobe on Almaden|37.331415| -121.8932|        19|San Jose|           8/5/13|      null|null|\n",
      "|  6|    San Pedro Square|37.336721|-121.89407|        15|San Jose|           8/7/13|      null|null|\n",
      "+---+--------------------+---------+----------+----------+--------+-----------------+----------+----+\n",
      "only showing top 5 rows"
     ]
    }
   ],
   "source": [
    "# station_population = station_population.withColumnRenamed('_c7','population')\n",
    "# station_population.show(5)"
   ]
  },
  {
   "cell_type": "code",
   "execution_count": 115,
   "metadata": {},
   "outputs": [
    {
     "data": {
      "application/vnd.jupyter.widget-view+json": {
       "model_id": "1924c06a7c284b938fdda4d10daf25cb",
       "version_major": 2,
       "version_minor": 0
      },
      "text/plain": [
       "VBox()"
      ]
     },
     "metadata": {},
     "output_type": "display_data"
    },
    {
     "data": {
      "application/vnd.jupyter.widget-view+json": {
       "model_id": "",
       "version_major": 2,
       "version_minor": 0
      },
      "text/plain": [
       "FloatProgress(value=0.0, bar_style='info', description='Progress:', layout=Layout(height='25px', width='50%'),…"
      ]
     },
     "metadata": {},
     "output_type": "display_data"
    },
    {
     "name": "stdout",
     "output_type": "stream",
     "text": [
      "+----------+----------+\n",
      "|station_id|population|\n",
      "+----------+----------+\n",
      "|        41|      9447|\n",
      "|        42|      5535|\n",
      "|        45|      9447|\n",
      "|        46|     34557|\n",
      "|        47|      4681|\n",
      "|        48|      5535|\n",
      "|        49|      1532|\n",
      "|        50|      9447|\n",
      "|        51|      9447|\n",
      "|        39|      4681|\n",
      "|        54|      1532|\n",
      "|        55|     39050|\n",
      "|        56|      9447|\n",
      "|        57|     39050|\n",
      "|        58|     10101|\n",
      "|        59|     10101|\n",
      "|        60|      5535|\n",
      "|        61|     16156|\n",
      "|        62|      1532|\n",
      "|        63|     39050|\n",
      "+----------+----------+\n",
      "only showing top 20 rows"
     ]
    }
   ],
   "source": [
    "station_population.show()"
   ]
  },
  {
   "cell_type": "code",
   "execution_count": 113,
   "metadata": {},
   "outputs": [
    {
     "data": {
      "application/vnd.jupyter.widget-view+json": {
       "model_id": "ba739680509447a28ebf9fa40ff8ccb4",
       "version_major": 2,
       "version_minor": 0
      },
      "text/plain": [
       "VBox()"
      ]
     },
     "metadata": {},
     "output_type": "display_data"
    },
    {
     "data": {
      "application/vnd.jupyter.widget-view+json": {
       "model_id": "",
       "version_major": 2,
       "version_minor": 0
      },
      "text/plain": [
       "FloatProgress(value=0.0, bar_style='info', description='Progress:', layout=Layout(height='25px', width='50%'),…"
      ]
     },
     "metadata": {},
     "output_type": "display_data"
    },
    {
     "name": "stdout",
     "output_type": "stream",
     "text": [
      "+----------+-----+\n",
      "|station_id|   _8|\n",
      "+----------+-----+\n",
      "|        41| 9447|\n",
      "|        42| 5535|\n",
      "|        45| 9447|\n",
      "|        46|34557|\n",
      "|        47| 4681|\n",
      "+----------+-----+\n",
      "only showing top 5 rows"
     ]
    }
   ],
   "source": [
    "station_population = station_population[station_population['_6']=='San Francisco'].select('_1','_8')\n",
    "station_population = station_population.withColumnRenamed('_1','station_id')\n",
    "station_population.show(5)"
   ]
  },
  {
   "cell_type": "code",
   "execution_count": 114,
   "metadata": {},
   "outputs": [
    {
     "data": {
      "application/vnd.jupyter.widget-view+json": {
       "model_id": "77d8444c5c2f4787928b35ae772669ff",
       "version_major": 2,
       "version_minor": 0
      },
      "text/plain": [
       "VBox()"
      ]
     },
     "metadata": {},
     "output_type": "display_data"
    },
    {
     "data": {
      "application/vnd.jupyter.widget-view+json": {
       "model_id": "",
       "version_major": 2,
       "version_minor": 0
      },
      "text/plain": [
       "FloatProgress(value=0.0, bar_style='info', description='Progress:', layout=Layout(height='25px', width='50%'),…"
      ]
     },
     "metadata": {},
     "output_type": "display_data"
    }
   ],
   "source": [
    "station_population = station_population.withColumnRenamed('_8','population')"
   ]
  },
  {
   "cell_type": "code",
   "execution_count": 117,
   "metadata": {},
   "outputs": [
    {
     "data": {
      "application/vnd.jupyter.widget-view+json": {
       "model_id": "77a44702470047048f08574ded2397ef",
       "version_major": 2,
       "version_minor": 0
      },
      "text/plain": [
       "VBox()"
      ]
     },
     "metadata": {},
     "output_type": "display_data"
    },
    {
     "data": {
      "application/vnd.jupyter.widget-view+json": {
       "model_id": "",
       "version_major": 2,
       "version_minor": 0
      },
      "text/plain": [
       "FloatProgress(value=0.0, bar_style='info', description='Progress:', layout=Layout(height='25px', width='50%'),…"
      ]
     },
     "metadata": {},
     "output_type": "display_data"
    }
   ],
   "source": [
    "#station_population_sf=station_population.dropna()\n",
    "station_population=station_population.withColumn('population',station_population['population'].cast('integer'))"
   ]
  },
  {
   "cell_type": "code",
   "execution_count": 5,
   "metadata": {
    "scrolled": false
   },
   "outputs": [
    {
     "data": {
      "application/vnd.jupyter.widget-view+json": {
       "model_id": "4645e878318a49a7aef11d76e004856a",
       "version_major": 2,
       "version_minor": 0
      },
      "text/plain": [
       "VBox()"
      ]
     },
     "metadata": {},
     "output_type": "display_data"
    },
    {
     "data": {
      "application/vnd.jupyter.widget-view+json": {
       "model_id": "",
       "version_major": 2,
       "version_minor": 0
      },
      "text/plain": [
       "FloatProgress(value=0.0, bar_style='info', description='Progress:', layout=Layout(height='25px', width='50%'),…"
      ]
     },
     "metadata": {},
     "output_type": "display_data"
    },
    {
     "name": "stdout",
     "output_type": "stream",
     "text": [
      "+----------+---------------+---------------+-------------------+\n",
      "|station_id|bikes_available|docks_available|               time|\n",
      "+----------+---------------+---------------+-------------------+\n",
      "|         2|              2|             25|2013/08/29 12:06:01|\n",
      "|         2|              2|             25|2013/08/29 12:07:01|\n",
      "|         2|              2|             25|2013/08/29 12:08:01|\n",
      "|         2|              2|             25|2013/08/29 12:09:01|\n",
      "|         2|              2|             25|2013/08/29 12:10:01|\n",
      "+----------+---------------+---------------+-------------------+\n",
      "only showing top 5 rows"
     ]
    }
   ],
   "source": [
    "status=ss.read.csv(status_path,header=True)\n",
    "status.show(5)"
   ]
  },
  {
   "cell_type": "code",
   "execution_count": 9,
   "metadata": {},
   "outputs": [
    {
     "data": {
      "application/vnd.jupyter.widget-view+json": {
       "model_id": "4d1b53e8439c4c1aba6ab62effa89d16",
       "version_major": 2,
       "version_minor": 0
      },
      "text/plain": [
       "VBox()"
      ]
     },
     "metadata": {},
     "output_type": "display_data"
    },
    {
     "data": {
      "application/vnd.jupyter.widget-view+json": {
       "model_id": "",
       "version_major": 2,
       "version_minor": 0
      },
      "text/plain": [
       "FloatProgress(value=0.0, bar_style='info', description='Progress:', layout=Layout(height='25px', width='50%'),…"
      ]
     },
     "metadata": {},
     "output_type": "display_data"
    }
   ],
   "source": [
    "status_rdd = sc.textFile(status_path)\n",
    "weather_rdd = sc.textFile(weather_path)"
   ]
  },
  {
   "cell_type": "code",
   "execution_count": 10,
   "metadata": {},
   "outputs": [
    {
     "data": {
      "application/vnd.jupyter.widget-view+json": {
       "model_id": "3500368bfc3b4929a7e15f61bea6dd87",
       "version_major": 2,
       "version_minor": 0
      },
      "text/plain": [
       "VBox()"
      ]
     },
     "metadata": {},
     "output_type": "display_data"
    },
    {
     "data": {
      "application/vnd.jupyter.widget-view+json": {
       "model_id": "",
       "version_major": 2,
       "version_minor": 0
      },
      "text/plain": [
       "FloatProgress(value=0.0, bar_style='info', description='Progress:', layout=Layout(height='25px', width='50%'),…"
      ]
     },
     "metadata": {},
     "output_type": "display_data"
    }
   ],
   "source": [
    "STATION_ID = 0\n",
    "BIKES_AVAILABLE = 1\n",
    "DOCKS_AVAILABLE = 2\n",
    "TIME = 3"
   ]
  },
  {
   "cell_type": "code",
   "execution_count": 11,
   "metadata": {},
   "outputs": [
    {
     "data": {
      "application/vnd.jupyter.widget-view+json": {
       "model_id": "4219c513598f4ebc8364c3d4dfab7f19",
       "version_major": 2,
       "version_minor": 0
      },
      "text/plain": [
       "VBox()"
      ]
     },
     "metadata": {},
     "output_type": "display_data"
    },
    {
     "data": {
      "application/vnd.jupyter.widget-view+json": {
       "model_id": "",
       "version_major": 2,
       "version_minor": 0
      },
      "text/plain": [
       "FloatProgress(value=0.0, bar_style='info', description='Progress:', layout=Layout(height='25px', width='50%'),…"
      ]
     },
     "metadata": {},
     "output_type": "display_data"
    }
   ],
   "source": [
    "def change_col(x,col_num,func,**kwargs):\n",
    "    x[col_num] = func(x[col_num],**kwargs)\n",
    "    return x\n",
    "\n",
    "# def makekey(x,*args):\n",
    "#     key = tuple([item for idx,item in enumerate(x) if idx in args])\n",
    "#     return (key,x)\n",
    "\n",
    "# def flatten(x,iterations=1):\n",
    "    \n",
    "#     return sum(x[1])"
   ]
  },
  {
   "cell_type": "code",
   "execution_count": 12,
   "metadata": {},
   "outputs": [
    {
     "data": {
      "application/vnd.jupyter.widget-view+json": {
       "model_id": "85bedc307dcd4a19b3b1844c04f02d67",
       "version_major": 2,
       "version_minor": 0
      },
      "text/plain": [
       "VBox()"
      ]
     },
     "metadata": {},
     "output_type": "display_data"
    },
    {
     "data": {
      "application/vnd.jupyter.widget-view+json": {
       "model_id": "",
       "version_major": 2,
       "version_minor": 0
      },
      "text/plain": [
       "FloatProgress(value=0.0, bar_style='info', description='Progress:', layout=Layout(height='25px', width='50%'),…"
      ]
     },
     "metadata": {},
     "output_type": "display_data"
    },
    {
     "name": "stdout",
     "output_type": "stream",
     "text": [
      "['station_id,bikes_available,docks_available,time', '2,2,25,2013/08/29 12:06:01']"
     ]
    }
   ],
   "source": [
    "status_rdd.cache().take(2)"
   ]
  },
  {
   "cell_type": "code",
   "execution_count": 13,
   "metadata": {},
   "outputs": [
    {
     "data": {
      "application/vnd.jupyter.widget-view+json": {
       "model_id": "6f10d4765f6d4955b271e948bff4912f",
       "version_major": 2,
       "version_minor": 0
      },
      "text/plain": [
       "VBox()"
      ]
     },
     "metadata": {},
     "output_type": "display_data"
    },
    {
     "data": {
      "application/vnd.jupyter.widget-view+json": {
       "model_id": "",
       "version_major": 2,
       "version_minor": 0
      },
      "text/plain": [
       "FloatProgress(value=0.0, bar_style='info', description='Progress:', layout=Layout(height='25px', width='50%'),…"
      ]
     },
     "metadata": {},
     "output_type": "display_data"
    }
   ],
   "source": [
    "status_rdd_processed = (status_rdd.filter(lambda x: not x.startswith('station_id'))\n",
    "                                  .map(lambda x:x.split(','))\n",
    "                                  .map(lambda x:x[:TIME]+[x[TIME].replace('/','-')])\n",
    "                                  .map(lambda x: change_col(x,TIME,parse))\n",
    "                                  .map(lambda x:x+[datetime(x[TIME].year,x[TIME].month,x[TIME].day,x[TIME].hour)]\n",
    "                                       +[x[TIME].hour]))"
   ]
  },
  {
   "cell_type": "code",
   "execution_count": 14,
   "metadata": {},
   "outputs": [
    {
     "data": {
      "application/vnd.jupyter.widget-view+json": {
       "model_id": "becbafa4d3a94ea1b2949589360cb88c",
       "version_major": 2,
       "version_minor": 0
      },
      "text/plain": [
       "VBox()"
      ]
     },
     "metadata": {},
     "output_type": "display_data"
    },
    {
     "data": {
      "application/vnd.jupyter.widget-view+json": {
       "model_id": "",
       "version_major": 2,
       "version_minor": 0
      },
      "text/plain": [
       "FloatProgress(value=0.0, bar_style='info', description='Progress:', layout=Layout(height='25px', width='50%'),…"
      ]
     },
     "metadata": {},
     "output_type": "display_data"
    }
   ],
   "source": [
    "def toDoubleSafe(v):\n",
    "    try:\n",
    "        return float(v)\n",
    "    except ValueError:\n",
    "        return float(0)"
   ]
  },
  {
   "cell_type": "code",
   "execution_count": 15,
   "metadata": {},
   "outputs": [
    {
     "data": {
      "application/vnd.jupyter.widget-view+json": {
       "model_id": "faded2f59df049059da1ca3bfc376cae",
       "version_major": 2,
       "version_minor": 0
      },
      "text/plain": [
       "VBox()"
      ]
     },
     "metadata": {},
     "output_type": "display_data"
    },
    {
     "data": {
      "application/vnd.jupyter.widget-view+json": {
       "model_id": "",
       "version_major": 2,
       "version_minor": 0
      },
      "text/plain": [
       "FloatProgress(value=0.0, bar_style='info', description='Progress:', layout=Layout(height='25px', width='50%'),…"
      ]
     },
     "metadata": {},
     "output_type": "display_data"
    },
    {
     "name": "stdout",
     "output_type": "stream",
     "text": [
      "[[datetime.datetime(2013, 8, 29, 0, 0), 68.0, 0.0], [datetime.datetime(2013, 8, 30, 0, 0), 69.0, 0.0], [datetime.datetime(2013, 8, 31, 0, 0), 64.0, 0.0]]"
     ]
    }
   ],
   "source": [
    "weather_rdd = sc.textFile(weather_path, 4)\\\n",
    "            .filter(lambda x: not x.startswith('date'))\\\n",
    "                                  .map(lambda x:x.split(','))\\\n",
    "                                  .map(lambda x:[x[0],toDoubleSafe(x[2]),toDoubleSafe(x[19])])\\\n",
    "                                  .map(lambda x: change_col(x,0,parse))#.map(lambda x:[x[0]]+[float(x[2])])\n",
    "weather_rdd.take(3)\n"
   ]
  },
  {
   "cell_type": "code",
   "execution_count": 16,
   "metadata": {
    "scrolled": true
   },
   "outputs": [
    {
     "data": {
      "application/vnd.jupyter.widget-view+json": {
       "model_id": "82eec6cc6e56444d82818a2e185b3342",
       "version_major": 2,
       "version_minor": 0
      },
      "text/plain": [
       "VBox()"
      ]
     },
     "metadata": {},
     "output_type": "display_data"
    },
    {
     "data": {
      "application/vnd.jupyter.widget-view+json": {
       "model_id": "",
       "version_major": 2,
       "version_minor": 0
      },
      "text/plain": [
       "FloatProgress(value=0.0, bar_style='info', description='Progress:', layout=Layout(height='25px', width='50%'),…"
      ]
     },
     "metadata": {},
     "output_type": "display_data"
    },
    {
     "name": "stdout",
     "output_type": "stream",
     "text": [
      "+----------+---------+---------------+\n",
      "|      date|mean_temp|rain_identifier|\n",
      "+----------+---------+---------------+\n",
      "|2013-08-29|     68.0|            0.0|\n",
      "|2013-08-30|     69.0|            0.0|\n",
      "|2013-08-31|     64.0|            0.0|\n",
      "+----------+---------+---------------+\n",
      "only showing top 3 rows"
     ]
    }
   ],
   "source": [
    "weather_schema = StructType([\n",
    "    StructField(\"date\",DateType(),False),\n",
    "    StructField(\"mean_temp\",FloatType(),False),\n",
    "    StructField(\"rain_identifier\",FloatType(),False)])\n",
    "    \n",
    "weather_df = ss.createDataFrame(weather_rdd, schema=weather_schema)\n",
    "weather_df.show(3)\n",
    "# weather_df.count()"
   ]
  },
  {
   "cell_type": "code",
   "execution_count": 17,
   "metadata": {},
   "outputs": [
    {
     "data": {
      "application/vnd.jupyter.widget-view+json": {
       "model_id": "27117ca29fca4197a57e54b9326f5d94",
       "version_major": 2,
       "version_minor": 0
      },
      "text/plain": [
       "VBox()"
      ]
     },
     "metadata": {},
     "output_type": "display_data"
    },
    {
     "data": {
      "application/vnd.jupyter.widget-view+json": {
       "model_id": "",
       "version_major": 2,
       "version_minor": 0
      },
      "text/plain": [
       "FloatProgress(value=0.0, bar_style='info', description='Progress:', layout=Layout(height='25px', width='50%'),…"
      ]
     },
     "metadata": {},
     "output_type": "display_data"
    }
   ],
   "source": [
    "weather_df_processed = weather_df.select(weather_df.date.cast(StringType()).alias('date'),\n",
    "                                        weather_df.mean_temp.cast(DoubleType()).alias('temp_float'),\n",
    "                                        weather_df.rain_identifier.cast(DoubleType()).alias('rain_level_float'))\n"
   ]
  },
  {
   "cell_type": "code",
   "execution_count": 18,
   "metadata": {},
   "outputs": [
    {
     "data": {
      "application/vnd.jupyter.widget-view+json": {
       "model_id": "be20a3e5e7d64b3d9e6c33440de96165",
       "version_major": 2,
       "version_minor": 0
      },
      "text/plain": [
       "VBox()"
      ]
     },
     "metadata": {},
     "output_type": "display_data"
    },
    {
     "data": {
      "application/vnd.jupyter.widget-view+json": {
       "model_id": "",
       "version_major": 2,
       "version_minor": 0
      },
      "text/plain": [
       "FloatProgress(value=0.0, bar_style='info', description='Progress:', layout=Layout(height='25px', width='50%'),…"
      ]
     },
     "metadata": {},
     "output_type": "display_data"
    },
    {
     "name": "stdout",
     "output_type": "stream",
     "text": [
      "+----------+----------+--------------------+\n",
      "|      date|temp_float|    rain_level_float|\n",
      "+----------+----------+--------------------+\n",
      "|2014-02-16|      56.0|0.021999999508261682|\n",
      "|2014-02-22|      56.4|                 0.0|\n",
      "|2014-05-27|      63.0|                 0.0|\n",
      "|2014-12-13|      50.4|0.003999999910593033|\n",
      "|2015-05-01|      54.2|                 0.0|\n",
      "+----------+----------+--------------------+\n",
      "only showing top 5 rows"
     ]
    }
   ],
   "source": [
    "weather_df_processed = weather_df_processed.groupBy('date').agg(mean('temp_float'),mean('rain_level_float'))\n",
    "weather_df_processed = weather_df_processed.withColumnRenamed('avg(temp_float)','temp_float').withColumnRenamed('avg(rain_level_float)','rain_level_float')\n",
    "weather_df_processed.show(5)"
   ]
  },
  {
   "cell_type": "code",
   "execution_count": 19,
   "metadata": {},
   "outputs": [
    {
     "data": {
      "application/vnd.jupyter.widget-view+json": {
       "model_id": "aa35cc7c2bbf444aad7b9af594aeb2dc",
       "version_major": 2,
       "version_minor": 0
      },
      "text/plain": [
       "VBox()"
      ]
     },
     "metadata": {},
     "output_type": "display_data"
    },
    {
     "data": {
      "application/vnd.jupyter.widget-view+json": {
       "model_id": "",
       "version_major": 2,
       "version_minor": 0
      },
      "text/plain": [
       "FloatProgress(value=0.0, bar_style='info', description='Progress:', layout=Layout(height='25px', width='50%'),…"
      ]
     },
     "metadata": {},
     "output_type": "display_data"
    }
   ],
   "source": [
    "from pyspark.sql.functions import mean as _mean, stddev as _stddev, col\n",
    "\n",
    "weather_df_stats = weather_df_processed.select(\n",
    "    _mean(col('rain_level_float')).alias('mean')\n",
    ").collect()"
   ]
  },
  {
   "cell_type": "code",
   "execution_count": 20,
   "metadata": {},
   "outputs": [
    {
     "data": {
      "application/vnd.jupyter.widget-view+json": {
       "model_id": "c3cdfdd47b4c43dd9f302c99e95fba9a",
       "version_major": 2,
       "version_minor": 0
      },
      "text/plain": [
       "VBox()"
      ]
     },
     "metadata": {},
     "output_type": "display_data"
    },
    {
     "data": {
      "application/vnd.jupyter.widget-view+json": {
       "model_id": "",
       "version_major": 2,
       "version_minor": 0
      },
      "text/plain": [
       "FloatProgress(value=0.0, bar_style='info', description='Progress:', layout=Layout(height='25px', width='50%'),…"
      ]
     },
     "metadata": {},
     "output_type": "display_data"
    },
    {
     "name": "stdout",
     "output_type": "stream",
     "text": [
      "0.02012005447629855"
     ]
    }
   ],
   "source": [
    "mean_rain = weather_df_stats[0][0]\n",
    "mean_rain"
   ]
  },
  {
   "cell_type": "code",
   "execution_count": 21,
   "metadata": {},
   "outputs": [
    {
     "data": {
      "application/vnd.jupyter.widget-view+json": {
       "model_id": "675f866718ab44fc9d2b364c3776de41",
       "version_major": 2,
       "version_minor": 0
      },
      "text/plain": [
       "VBox()"
      ]
     },
     "metadata": {},
     "output_type": "display_data"
    },
    {
     "data": {
      "application/vnd.jupyter.widget-view+json": {
       "model_id": "",
       "version_major": 2,
       "version_minor": 0
      },
      "text/plain": [
       "FloatProgress(value=0.0, bar_style='info', description='Progress:', layout=Layout(height='25px', width='50%'),…"
      ]
     },
     "metadata": {},
     "output_type": "display_data"
    }
   ],
   "source": [
    "from pyspark.sql.functions import *\n",
    "check_rain = udf(lambda x: x > mean_rain)"
   ]
  },
  {
   "cell_type": "code",
   "execution_count": 22,
   "metadata": {},
   "outputs": [
    {
     "data": {
      "application/vnd.jupyter.widget-view+json": {
       "model_id": "b4bdfc43da80489b988409e82059addf",
       "version_major": 2,
       "version_minor": 0
      },
      "text/plain": [
       "VBox()"
      ]
     },
     "metadata": {},
     "output_type": "display_data"
    },
    {
     "data": {
      "application/vnd.jupyter.widget-view+json": {
       "model_id": "",
       "version_major": 2,
       "version_minor": 0
      },
      "text/plain": [
       "FloatProgress(value=0.0, bar_style='info', description='Progress:', layout=Layout(height='25px', width='50%'),…"
      ]
     },
     "metadata": {},
     "output_type": "display_data"
    }
   ],
   "source": [
    "weather_df_processed = weather_df_processed.select('date', 'temp_float', check_rain('rain_level_float') \\\n",
    "                                            .alias('rain_identifier'))"
   ]
  },
  {
   "cell_type": "code",
   "execution_count": 23,
   "metadata": {},
   "outputs": [
    {
     "data": {
      "application/vnd.jupyter.widget-view+json": {
       "model_id": "3a0a5585fca04b6289adbc8617b52849",
       "version_major": 2,
       "version_minor": 0
      },
      "text/plain": [
       "VBox()"
      ]
     },
     "metadata": {},
     "output_type": "display_data"
    },
    {
     "data": {
      "application/vnd.jupyter.widget-view+json": {
       "model_id": "",
       "version_major": 2,
       "version_minor": 0
      },
      "text/plain": [
       "FloatProgress(value=0.0, bar_style='info', description='Progress:', layout=Layout(height='25px', width='50%'),…"
      ]
     },
     "metadata": {},
     "output_type": "display_data"
    },
    {
     "name": "stdout",
     "output_type": "stream",
     "text": [
      "DataFrame[summary: string, date: string, temp_float: string, rain_identifier: string]"
     ]
    }
   ],
   "source": [
    "weather_df_processed.summary()"
   ]
  },
  {
   "cell_type": "code",
   "execution_count": 24,
   "metadata": {},
   "outputs": [
    {
     "data": {
      "application/vnd.jupyter.widget-view+json": {
       "model_id": "6c6c5cbe1b694842a7bca22519a1eb8b",
       "version_major": 2,
       "version_minor": 0
      },
      "text/plain": [
       "VBox()"
      ]
     },
     "metadata": {},
     "output_type": "display_data"
    },
    {
     "data": {
      "application/vnd.jupyter.widget-view+json": {
       "model_id": "",
       "version_major": 2,
       "version_minor": 0
      },
      "text/plain": [
       "FloatProgress(value=0.0, bar_style='info', description='Progress:', layout=Layout(height='25px', width='50%'),…"
      ]
     },
     "metadata": {},
     "output_type": "display_data"
    },
    {
     "name": "stdout",
     "output_type": "stream",
     "text": [
      "[['2', '2', '25', datetime.datetime(2013, 8, 29, 12, 6, 1), datetime.datetime(2013, 8, 29, 12, 0), 12], ['2', '2', '25', datetime.datetime(2013, 8, 29, 12, 7, 1), datetime.datetime(2013, 8, 29, 12, 0), 12], ['2', '2', '25', datetime.datetime(2013, 8, 29, 12, 8, 1), datetime.datetime(2013, 8, 29, 12, 0), 12]]"
     ]
    }
   ],
   "source": [
    "status_rdd_processed.cache().take(3)"
   ]
  },
  {
   "cell_type": "code",
   "execution_count": 25,
   "metadata": {},
   "outputs": [
    {
     "data": {
      "application/vnd.jupyter.widget-view+json": {
       "model_id": "6a1be2aca5ed45058e4808b762dbf0b9",
       "version_major": 2,
       "version_minor": 0
      },
      "text/plain": [
       "VBox()"
      ]
     },
     "metadata": {},
     "output_type": "display_data"
    },
    {
     "data": {
      "application/vnd.jupyter.widget-view+json": {
       "model_id": "",
       "version_major": 2,
       "version_minor": 0
      },
      "text/plain": [
       "FloatProgress(value=0.0, bar_style='info', description='Progress:', layout=Layout(height='25px', width='50%'),…"
      ]
     },
     "metadata": {},
     "output_type": "display_data"
    }
   ],
   "source": [
    "def is_weekend(date):\n",
    "    weekday_name = date.strftime('%A')\n",
    "    if weekday_name in ['Saturday','Sunday']:\n",
    "        return True\n",
    "    else:\n",
    "        return False"
   ]
  },
  {
   "cell_type": "code",
   "execution_count": 26,
   "metadata": {},
   "outputs": [
    {
     "data": {
      "application/vnd.jupyter.widget-view+json": {
       "model_id": "2e1b86f41fea45fb814c1aa5eec0e0c5",
       "version_major": 2,
       "version_minor": 0
      },
      "text/plain": [
       "VBox()"
      ]
     },
     "metadata": {},
     "output_type": "display_data"
    },
    {
     "data": {
      "application/vnd.jupyter.widget-view+json": {
       "model_id": "",
       "version_major": 2,
       "version_minor": 0
      },
      "text/plain": [
       "FloatProgress(value=0.0, bar_style='info', description='Progress:', layout=Layout(height='25px', width='50%'),…"
      ]
     },
     "metadata": {},
     "output_type": "display_data"
    }
   ],
   "source": [
    "status_rdd_week = status_rdd_processed.map(lambda x:x+[is_weekend(x[4])])\\\n",
    "                    .map(lambda x:[int(x[0]),int(x[1]),int(x[2])\n",
    "                                   ,x[4],x[5],x[6]])\n"
   ]
  },
  {
   "cell_type": "code",
   "execution_count": 27,
   "metadata": {},
   "outputs": [
    {
     "data": {
      "application/vnd.jupyter.widget-view+json": {
       "model_id": "d5f5e2a0874d4f12b3e27dc2a4a11369",
       "version_major": 2,
       "version_minor": 0
      },
      "text/plain": [
       "VBox()"
      ]
     },
     "metadata": {},
     "output_type": "display_data"
    },
    {
     "data": {
      "application/vnd.jupyter.widget-view+json": {
       "model_id": "",
       "version_major": 2,
       "version_minor": 0
      },
      "text/plain": [
       "FloatProgress(value=0.0, bar_style='info', description='Progress:', layout=Layout(height='25px', width='50%'),…"
      ]
     },
     "metadata": {},
     "output_type": "display_data"
    },
    {
     "name": "stdout",
     "output_type": "stream",
     "text": [
      "[[2, 2, 25, datetime.datetime(2013, 8, 29, 12, 0), 12, False], [2, 2, 25, datetime.datetime(2013, 8, 29, 12, 0), 12, False], [2, 2, 25, datetime.datetime(2013, 8, 29, 12, 0), 12, False]]"
     ]
    }
   ],
   "source": [
    "status_rdd_week.cache().take(3)"
   ]
  },
  {
   "cell_type": "code",
   "execution_count": 28,
   "metadata": {},
   "outputs": [
    {
     "data": {
      "application/vnd.jupyter.widget-view+json": {
       "model_id": "1d6ce91d00e54022b64c026f66803260",
       "version_major": 2,
       "version_minor": 0
      },
      "text/plain": [
       "VBox()"
      ]
     },
     "metadata": {},
     "output_type": "display_data"
    },
    {
     "data": {
      "application/vnd.jupyter.widget-view+json": {
       "model_id": "",
       "version_major": 2,
       "version_minor": 0
      },
      "text/plain": [
       "FloatProgress(value=0.0, bar_style='info', description='Progress:', layout=Layout(height='25px', width='50%'),…"
      ]
     },
     "metadata": {},
     "output_type": "display_data"
    },
    {
     "name": "stdout",
     "output_type": "stream",
     "text": [
      "DataFrame[station_id: int, bikes_available: int, docks_available: int, time: date, hour: int, is_weekend: boolean]"
     ]
    }
   ],
   "source": [
    "schema = StructType([StructField(\"station_id\", IntegerType(), True),\n",
    "                     StructField(\"bikes_available\", IntegerType(), False),\n",
    "                     StructField(\"docks_available\", IntegerType(), True),\n",
    "                     StructField(\"time\", DateType(), True),\n",
    "                     StructField(\"hour\", IntegerType(), False),\n",
    "                     StructField(\"is_weekend\", BooleanType(), True),\n",
    "                     ])\n",
    "df_status = ss.createDataFrame(status_rdd_week, schema)\n",
    "df_status.cache()"
   ]
  },
  {
   "cell_type": "code",
   "execution_count": 29,
   "metadata": {},
   "outputs": [
    {
     "data": {
      "application/vnd.jupyter.widget-view+json": {
       "model_id": "181d1136001a47f78837e059f7bd56c8",
       "version_major": 2,
       "version_minor": 0
      },
      "text/plain": [
       "VBox()"
      ]
     },
     "metadata": {},
     "output_type": "display_data"
    },
    {
     "data": {
      "application/vnd.jupyter.widget-view+json": {
       "model_id": "",
       "version_major": 2,
       "version_minor": 0
      },
      "text/plain": [
       "FloatProgress(value=0.0, bar_style='info', description='Progress:', layout=Layout(height='25px', width='50%'),…"
      ]
     },
     "metadata": {},
     "output_type": "display_data"
    },
    {
     "name": "stdout",
     "output_type": "stream",
     "text": [
      "+----------+---------------+---------------+----------+----+----------+\n",
      "|station_id|bikes_available|docks_available|      date|hour|is_weekend|\n",
      "+----------+---------------+---------------+----------+----+----------+\n",
      "|         2|              2|             25|2013-08-29|  12|     false|\n",
      "|         2|              2|             25|2013-08-29|  12|     false|\n",
      "|         2|              2|             25|2013-08-29|  12|     false|\n",
      "|         2|              2|             25|2013-08-29|  12|     false|\n",
      "|         2|              2|             25|2013-08-29|  12|     false|\n",
      "+----------+---------------+---------------+----------+----+----------+\n",
      "only showing top 5 rows"
     ]
    }
   ],
   "source": [
    "df_status = df_status.withColumnRenamed('time','date')\n",
    "df_status.show(5)"
   ]
  },
  {
   "cell_type": "code",
   "execution_count": 30,
   "metadata": {},
   "outputs": [
    {
     "data": {
      "application/vnd.jupyter.widget-view+json": {
       "model_id": "c193dc6138cb4b9591102c5cd7744975",
       "version_major": 2,
       "version_minor": 0
      },
      "text/plain": [
       "VBox()"
      ]
     },
     "metadata": {},
     "output_type": "display_data"
    },
    {
     "data": {
      "application/vnd.jupyter.widget-view+json": {
       "model_id": "",
       "version_major": 2,
       "version_minor": 0
      },
      "text/plain": [
       "FloatProgress(value=0.0, bar_style='info', description='Progress:', layout=Layout(height='25px', width='50%'),…"
      ]
     },
     "metadata": {},
     "output_type": "display_data"
    },
    {
     "name": "stdout",
     "output_type": "stream",
     "text": [
      "+----------+----------+----+--------------------+--------------------+---------------+\n",
      "|station_id|      date|hour|avg(docks_available)|avg(bikes_available)|min(is_weekend)|\n",
      "+----------+----------+----+--------------------+--------------------+---------------+\n",
      "|         2|2013-08-31|   4|                16.0|                11.0|           true|\n",
      "|         2|2013-09-27|  19|                14.0|                13.0|          false|\n",
      "|         2|2013-10-17|  16|  10.983333333333333|  16.016666666666666|          false|\n",
      "|         2|2013-10-26|   3|                 6.0|                21.0|           true|\n",
      "|         2|2013-11-03|  17|  10.566666666666666|  16.433333333333334|           true|\n",
      "+----------+----------+----+--------------------+--------------------+---------------+\n",
      "only showing top 5 rows"
     ]
    }
   ],
   "source": [
    "status_grop = df_status.groupBy('station_id','date','hour')\\\n",
    "    .agg(avg('docks_available'),avg('bikes_available'),min('is_weekend'))\n",
    "status_grop.cache().show(5)"
   ]
  },
  {
   "cell_type": "code",
   "execution_count": 31,
   "metadata": {},
   "outputs": [
    {
     "data": {
      "application/vnd.jupyter.widget-view+json": {
       "model_id": "cbb75382de4c4991928b721e5e833417",
       "version_major": 2,
       "version_minor": 0
      },
      "text/plain": [
       "VBox()"
      ]
     },
     "metadata": {},
     "output_type": "display_data"
    },
    {
     "data": {
      "application/vnd.jupyter.widget-view+json": {
       "model_id": "",
       "version_major": 2,
       "version_minor": 0
      },
      "text/plain": [
       "FloatProgress(value=0.0, bar_style='info', description='Progress:', layout=Layout(height='25px', width='50%'),…"
      ]
     },
     "metadata": {},
     "output_type": "display_data"
    },
    {
     "name": "stdout",
     "output_type": "stream",
     "text": [
      "['station_id', 'date', 'hour', 'avg(docks_available)', 'avg(bikes_available)', 'min(is_weekend)']"
     ]
    }
   ],
   "source": [
    "status_grop.columns"
   ]
  },
  {
   "cell_type": "code",
   "execution_count": 32,
   "metadata": {},
   "outputs": [
    {
     "data": {
      "application/vnd.jupyter.widget-view+json": {
       "model_id": "1ae8689a2750427189e9cdc83a57e853",
       "version_major": 2,
       "version_minor": 0
      },
      "text/plain": [
       "VBox()"
      ]
     },
     "metadata": {},
     "output_type": "display_data"
    },
    {
     "data": {
      "application/vnd.jupyter.widget-view+json": {
       "model_id": "",
       "version_major": 2,
       "version_minor": 0
      },
      "text/plain": [
       "FloatProgress(value=0.0, bar_style='info', description='Progress:', layout=Layout(height='25px', width='50%'),…"
      ]
     },
     "metadata": {},
     "output_type": "display_data"
    },
    {
     "name": "stdout",
     "output_type": "stream",
     "text": [
      "+----------+----------+----+------------------+------------------+---------------+\n",
      "|station_id|      date|hour|   docks_available|   bikes_available|min(is_weekend)|\n",
      "+----------+----------+----+------------------+------------------+---------------+\n",
      "|         2|2013-08-31|   4|              16.0|              11.0|           true|\n",
      "|         2|2013-09-27|  19|              14.0|              13.0|          false|\n",
      "|         2|2013-10-17|  16|10.983333333333333|16.016666666666666|          false|\n",
      "|         2|2013-10-26|   3|               6.0|              21.0|           true|\n",
      "|         2|2013-11-03|  17|10.566666666666666|16.433333333333334|           true|\n",
      "+----------+----------+----+------------------+------------------+---------------+\n",
      "only showing top 5 rows"
     ]
    }
   ],
   "source": [
    "status_grop = status_grop.withColumnRenamed('avg(docks_available)','docks_available')\\\n",
    "                .withColumnRenamed('avg(bikes_available)','bikes_available')\\\n",
    "                .withColumnRenamed('s_weekend','is_weekend')\n",
    "status_grop.show(5)\n",
    "\n"
   ]
  },
  {
   "cell_type": "code",
   "execution_count": 33,
   "metadata": {},
   "outputs": [
    {
     "data": {
      "application/vnd.jupyter.widget-view+json": {
       "model_id": "4b27dff63e684dba84684a9017c71389",
       "version_major": 2,
       "version_minor": 0
      },
      "text/plain": [
       "VBox()"
      ]
     },
     "metadata": {},
     "output_type": "display_data"
    },
    {
     "data": {
      "application/vnd.jupyter.widget-view+json": {
       "model_id": "",
       "version_major": 2,
       "version_minor": 0
      },
      "text/plain": [
       "FloatProgress(value=0.0, bar_style='info', description='Progress:', layout=Layout(height='25px', width='50%'),…"
      ]
     },
     "metadata": {},
     "output_type": "display_data"
    },
    {
     "name": "stdout",
     "output_type": "stream",
     "text": [
      "+----------+----------+----+------------------+------------------+---------------+\n",
      "|station_id|      date|hour|   docks_available|   bikes_available|min(is_weekend)|\n",
      "+----------+----------+----+------------------+------------------+---------------+\n",
      "|         2|2013-08-29|  12|              25.0|               2.0|          false|\n",
      "|         2|2013-08-29|  13| 24.30188679245283|  2.69811320754717|          false|\n",
      "|         2|2013-08-29|  14|              25.0|               2.0|          false|\n",
      "|         2|2013-08-29|  15|              25.0|               2.0|          false|\n",
      "|         2|2013-08-29|  16|              25.0|               2.0|          false|\n",
      "|         2|2013-08-29|  17| 24.09259259259259|2.9074074074074074|          false|\n",
      "|         2|2013-08-29|  18|              24.0|               3.0|          false|\n",
      "|         2|2013-08-29|  19|24.454545454545453|2.5454545454545454|          false|\n",
      "|         2|2013-08-29|  20|25.403846153846153|1.5961538461538463|          false|\n",
      "|         2|2013-08-29|  21|              26.0|               1.0|          false|\n",
      "|         2|2013-08-29|  22| 24.98148148148148|2.0185185185185186|          false|\n",
      "|         2|2013-08-29|  23|              24.0|               3.0|          false|\n",
      "|         2|2013-08-30|   0|              24.0|               3.0|          false|\n",
      "|         2|2013-08-30|   1|              24.0|               3.0|          false|\n",
      "|         2|2013-08-30|   2|              24.0|               3.0|          false|\n",
      "|         2|2013-08-30|   3|              24.0|               3.0|          false|\n",
      "|         2|2013-08-30|   4|              24.0|               3.0|          false|\n",
      "|         2|2013-08-30|   5| 24.07843137254902|2.9215686274509802|          false|\n",
      "|         2|2013-08-30|   6|              24.0|               3.0|          false|\n",
      "|         2|2013-08-30|   7|              24.0|               3.0|          false|\n",
      "|         2|2013-08-30|   8| 24.79245283018868| 2.207547169811321|          false|\n",
      "|         2|2013-08-30|   9|              26.0|               1.0|          false|\n",
      "|         2|2013-08-30|  10|              26.0|               1.0|          false|\n",
      "|         2|2013-08-30|  11| 25.12962962962963|1.8703703703703705|          false|\n",
      "|         2|2013-08-30|  12|              25.0|               2.0|          false|\n",
      "|         2|2013-08-30|  13|24.586206896551722| 2.413793103448276|          false|\n",
      "|         2|2013-08-30|  14|              24.0|               3.0|          false|\n",
      "|         2|2013-08-30|  15|              24.0|               3.0|          false|\n",
      "|         2|2013-08-30|  16| 18.29090909090909| 8.709090909090909|          false|\n",
      "|         2|2013-08-30|  17|              16.0|              11.0|          false|\n",
      "+----------+----------+----+------------------+------------------+---------------+\n",
      "only showing top 30 rows"
     ]
    }
   ],
   "source": [
    "status_grop.orderBy('station_id','date','hour').show(30)"
   ]
  },
  {
   "cell_type": "code",
   "execution_count": 59,
   "metadata": {},
   "outputs": [
    {
     "data": {
      "application/vnd.jupyter.widget-view+json": {
       "model_id": "420388eb38dd4f60ace4fec509d98d6f",
       "version_major": 2,
       "version_minor": 0
      },
      "text/plain": [
       "VBox()"
      ]
     },
     "metadata": {},
     "output_type": "display_data"
    },
    {
     "data": {
      "application/vnd.jupyter.widget-view+json": {
       "model_id": "",
       "version_major": 2,
       "version_minor": 0
      },
      "text/plain": [
       "FloatProgress(value=0.0, bar_style='info', description='Progress:', layout=Layout(height='25px', width='50%'),…"
      ]
     },
     "metadata": {},
     "output_type": "display_data"
    }
   ],
   "source": [
    "status_grop=status_grop.withColumnRenamed(\"min(is_weekend)\",\"is_weekend\")"
   ]
  },
  {
   "cell_type": "code",
   "execution_count": 60,
   "metadata": {
    "scrolled": true
   },
   "outputs": [
    {
     "data": {
      "application/vnd.jupyter.widget-view+json": {
       "model_id": "d6efb1e282e5498b9dc1f610b1f918b3",
       "version_major": 2,
       "version_minor": 0
      },
      "text/plain": [
       "VBox()"
      ]
     },
     "metadata": {},
     "output_type": "display_data"
    },
    {
     "data": {
      "application/vnd.jupyter.widget-view+json": {
       "model_id": "",
       "version_major": 2,
       "version_minor": 0
      },
      "text/plain": [
       "FloatProgress(value=0.0, bar_style='info', description='Progress:', layout=Layout(height='25px', width='50%'),…"
      ]
     },
     "metadata": {},
     "output_type": "display_data"
    }
   ],
   "source": [
    "status_grop.write.mode(\"overwrite\")\\\n",
    "        .parquet(\"s3://msds694.proj/data/parquet/status_grouped\")"
   ]
  },
  {
   "cell_type": "code",
   "execution_count": 57,
   "metadata": {},
   "outputs": [
    {
     "data": {
      "application/vnd.jupyter.widget-view+json": {
       "model_id": "faf6e5be737545c9a404985fa666fec4",
       "version_major": 2,
       "version_minor": 0
      },
      "text/plain": [
       "VBox()"
      ]
     },
     "metadata": {},
     "output_type": "display_data"
    },
    {
     "data": {
      "application/vnd.jupyter.widget-view+json": {
       "model_id": "",
       "version_major": 2,
       "version_minor": 0
      },
      "text/plain": [
       "FloatProgress(value=0.0, bar_style='info', description='Progress:', layout=Layout(height='25px', width='50%'),…"
      ]
     },
     "metadata": {},
     "output_type": "display_data"
    },
    {
     "name": "stderr",
     "output_type": "stream",
     "text": [
      "'Path does not exist: s3://msds694.proj/data/parquet/status_grouped;'\n",
      "Traceback (most recent call last):\n",
      "  File \"/usr/lib/spark/python/lib/pyspark.zip/pyspark/sql/readwriter.py\", line 316, in parquet\n",
      "    return self._df(self._jreader.parquet(_to_seq(self._spark._sc, paths)))\n",
      "  File \"/usr/lib/spark/python/lib/py4j-0.10.7-src.zip/py4j/java_gateway.py\", line 1257, in __call__\n",
      "    answer, self.gateway_client, self.target_id, self.name)\n",
      "  File \"/usr/lib/spark/python/lib/pyspark.zip/pyspark/sql/utils.py\", line 69, in deco\n",
      "    raise AnalysisException(s.split(': ', 1)[1], stackTrace)\n",
      "pyspark.sql.utils.AnalysisException: 'Path does not exist: s3://msds694.proj/data/parquet/status_grouped;'\n",
      "\n"
     ]
    }
   ],
   "source": [
    "status_grop=ss.read.parquet(\"s3://msds694.proj/data/parquet/status_grouped\")"
   ]
  },
  {
   "cell_type": "code",
   "execution_count": 62,
   "metadata": {
    "scrolled": false
   },
   "outputs": [
    {
     "data": {
      "application/vnd.jupyter.widget-view+json": {
       "model_id": "776284a1ffa748078380f1fec67b3008",
       "version_major": 2,
       "version_minor": 0
      },
      "text/plain": [
       "VBox()"
      ]
     },
     "metadata": {},
     "output_type": "display_data"
    },
    {
     "data": {
      "application/vnd.jupyter.widget-view+json": {
       "model_id": "",
       "version_major": 2,
       "version_minor": 0
      },
      "text/plain": [
       "FloatProgress(value=0.0, bar_style='info', description='Progress:', layout=Layout(height='25px', width='50%'),…"
      ]
     },
     "metadata": {},
     "output_type": "display_data"
    },
    {
     "name": "stdout",
     "output_type": "stream",
     "text": [
      "+----------+----------+----+------------------+------------------+----------+----------+---------------+\n",
      "|      date|station_id|hour|   docks_available|   bikes_available|is_weekend|temp_float|rain_identifier|\n",
      "+----------+----------+----+------------------+------------------+----------+----------+---------------+\n",
      "|2014-02-16|        62|   2|              11.0|               8.0|      true|      56.0|           true|\n",
      "|2014-02-16|        10|   9|               7.0|               8.0|      true|      56.0|           true|\n",
      "|2014-02-16|        14|   8|10.083333333333334| 8.916666666666666|      true|      56.0|           true|\n",
      "|2014-02-16|        24|  18|               7.5|               7.5|      true|      56.0|           true|\n",
      "|2014-02-16|        26|   8|               7.0|               8.0|      true|      56.0|           true|\n",
      "|2014-02-16|        42|  23|               8.0|               7.0|      true|      56.0|           true|\n",
      "|2014-02-16|        45|   9|               6.0|               9.0|      true|      56.0|           true|\n",
      "|2014-02-16|        45|  15| 6.883333333333334| 8.116666666666667|      true|      56.0|           true|\n",
      "|2014-02-16|        46|   3|               9.0|               6.0|      true|      56.0|           true|\n",
      "|2014-02-16|        46|  17| 7.266666666666667| 7.733333333333333|      true|      56.0|           true|\n",
      "|2014-02-16|        66|  15|11.316666666666666| 7.683333333333334|      true|      56.0|           true|\n",
      "|2014-02-16|        68|  14| 6.766666666666667|12.233333333333333|      true|      56.0|           true|\n",
      "|2014-02-16|        72|   3|              14.0|               9.0|      true|      56.0|           true|\n",
      "|2014-02-16|        76|  14|11.466666666666667| 7.533333333333333|      true|      56.0|           true|\n",
      "|2014-02-16|         4|  19|               8.0|               3.0|      true|      56.0|           true|\n",
      "|2014-02-16|         5|  22|              10.0|               9.0|      true|      56.0|           true|\n",
      "|2014-02-16|        27|  10|               7.0|               8.0|      true|      56.0|           true|\n",
      "|2014-02-16|        32|  11|               5.0|               6.0|      true|      56.0|           true|\n",
      "|2014-02-16|        47|   9| 6.933333333333334|12.066666666666666|      true|      56.0|           true|\n",
      "|2014-02-16|        55|   0|              13.0|              10.0|      true|      56.0|           true|\n",
      "+----------+----------+----+------------------+------------------+----------+----------+---------------+\n",
      "only showing top 20 rows"
     ]
    }
   ],
   "source": [
    "status_weather = status_grop.join(weather_df_processed,'date','left_outer')\n",
    "status_weather.cache().show()"
   ]
  },
  {
   "cell_type": "code",
   "execution_count": 63,
   "metadata": {},
   "outputs": [
    {
     "data": {
      "application/vnd.jupyter.widget-view+json": {
       "model_id": "b0d44edaf6ad439f9ac6a397f103fc42",
       "version_major": 2,
       "version_minor": 0
      },
      "text/plain": [
       "VBox()"
      ]
     },
     "metadata": {},
     "output_type": "display_data"
    },
    {
     "data": {
      "application/vnd.jupyter.widget-view+json": {
       "model_id": "",
       "version_major": 2,
       "version_minor": 0
      },
      "text/plain": [
       "FloatProgress(value=0.0, bar_style='info', description='Progress:', layout=Layout(height='25px', width='50%'),…"
      ]
     },
     "metadata": {},
     "output_type": "display_data"
    },
    {
     "name": "stdout",
     "output_type": "stream",
     "text": [
      "+----------+----------+----+------------------+------------------+----------+----------+---------------+\n",
      "|      date|station_id|hour|   docks_available|   bikes_available|is_weekend|temp_float|rain_identifier|\n",
      "+----------+----------+----+------------------+------------------+----------+----------+---------------+\n",
      "|2013-08-29|         2|  12|              25.0|               2.0|     false|      70.4|          false|\n",
      "|2013-08-29|         2|  13| 24.30188679245283|  2.69811320754717|     false|      70.4|          false|\n",
      "|2013-08-29|         2|  14|              25.0|               2.0|     false|      70.4|          false|\n",
      "|2013-08-29|         2|  15|              25.0|               2.0|     false|      70.4|          false|\n",
      "|2013-08-29|         2|  16|              25.0|               2.0|     false|      70.4|          false|\n",
      "|2013-08-29|         2|  17| 24.09259259259259|2.9074074074074074|     false|      70.4|          false|\n",
      "|2013-08-29|         2|  18|              24.0|               3.0|     false|      70.4|          false|\n",
      "|2013-08-29|         2|  19|24.454545454545453|2.5454545454545454|     false|      70.4|          false|\n",
      "|2013-08-29|         2|  20|25.403846153846153|1.5961538461538463|     false|      70.4|          false|\n",
      "|2013-08-29|         2|  21|              26.0|               1.0|     false|      70.4|          false|\n",
      "|2013-08-29|         2|  22| 24.98148148148148|2.0185185185185186|     false|      70.4|          false|\n",
      "|2013-08-29|         2|  23|              24.0|               3.0|     false|      70.4|          false|\n",
      "|2013-08-30|         2|   0|              24.0|               3.0|     false|      73.0|          false|\n",
      "|2013-08-30|         2|   1|              24.0|               3.0|     false|      73.0|          false|\n",
      "|2013-08-30|         2|   2|              24.0|               3.0|     false|      73.0|          false|\n",
      "|2013-08-30|         2|   3|              24.0|               3.0|     false|      73.0|          false|\n",
      "|2013-08-30|         2|   4|              24.0|               3.0|     false|      73.0|          false|\n",
      "|2013-08-30|         2|   5| 24.07843137254902|2.9215686274509802|     false|      73.0|          false|\n",
      "|2013-08-30|         2|   6|              24.0|               3.0|     false|      73.0|          false|\n",
      "|2013-08-30|         2|   7|              24.0|               3.0|     false|      73.0|          false|\n",
      "|2013-08-30|         2|   8| 24.79245283018868| 2.207547169811321|     false|      73.0|          false|\n",
      "|2013-08-30|         2|   9|              26.0|               1.0|     false|      73.0|          false|\n",
      "|2013-08-30|         2|  10|              26.0|               1.0|     false|      73.0|          false|\n",
      "|2013-08-30|         2|  11| 25.12962962962963|1.8703703703703705|     false|      73.0|          false|\n",
      "|2013-08-30|         2|  12|              25.0|               2.0|     false|      73.0|          false|\n",
      "|2013-08-30|         2|  13|24.586206896551722| 2.413793103448276|     false|      73.0|          false|\n",
      "|2013-08-30|         2|  14|              24.0|               3.0|     false|      73.0|          false|\n",
      "|2013-08-30|         2|  15|              24.0|               3.0|     false|      73.0|          false|\n",
      "|2013-08-30|         2|  16| 18.29090909090909| 8.709090909090909|     false|      73.0|          false|\n",
      "|2013-08-30|         2|  17|              16.0|              11.0|     false|      73.0|          false|\n",
      "+----------+----------+----+------------------+------------------+----------+----------+---------------+\n",
      "only showing top 30 rows"
     ]
    }
   ],
   "source": [
    "status_weather.orderBy('station_id','date','hour').show(30)"
   ]
  },
  {
   "cell_type": "code",
   "execution_count": 64,
   "metadata": {},
   "outputs": [
    {
     "data": {
      "application/vnd.jupyter.widget-view+json": {
       "model_id": "55b5ef31302c4bc58cd202fea400caa6",
       "version_major": 2,
       "version_minor": 0
      },
      "text/plain": [
       "VBox()"
      ]
     },
     "metadata": {},
     "output_type": "display_data"
    },
    {
     "data": {
      "application/vnd.jupyter.widget-view+json": {
       "model_id": "",
       "version_major": 2,
       "version_minor": 0
      },
      "text/plain": [
       "FloatProgress(value=0.0, bar_style='info', description='Progress:', layout=Layout(height='25px', width='50%'),…"
      ]
     },
     "metadata": {},
     "output_type": "display_data"
    }
   ],
   "source": [
    "def type_safe(v):\n",
    "    try:\n",
    "        return int(v)\n",
    "    except ValueError:\n",
    "        return str(v) "
   ]
  },
  {
   "cell_type": "code",
   "execution_count": 65,
   "metadata": {},
   "outputs": [
    {
     "data": {
      "application/vnd.jupyter.widget-view+json": {
       "model_id": "852b01177e3f4eb08f40eb97479f652c",
       "version_major": 2,
       "version_minor": 0
      },
      "text/plain": [
       "VBox()"
      ]
     },
     "metadata": {},
     "output_type": "display_data"
    },
    {
     "data": {
      "application/vnd.jupyter.widget-view+json": {
       "model_id": "",
       "version_major": 2,
       "version_minor": 0
      },
      "text/plain": [
       "FloatProgress(value=0.0, bar_style='info', description='Progress:', layout=Layout(height='25px', width='50%'),…"
      ]
     },
     "metadata": {},
     "output_type": "display_data"
    },
    {
     "name": "stdout",
     "output_type": "stream",
     "text": [
      "[['4576', '63', datetime.datetime(2013, 8, 29, 14, 13), 'South Van Ness at Market', '66', datetime.datetime(2013, 8, 29, 14, 14), 'South Van Ness at Market', '66', '520', 'Subscriber', '94127'], ['4607', '70', datetime.datetime(2013, 8, 29, 14, 42), 'San Jose City Hall', '10', datetime.datetime(2013, 8, 29, 14, 43), 'San Jose City Hall', '10', '661', 'Subscriber', '95138'], ['4130', '71', datetime.datetime(2013, 8, 29, 10, 16), 'Mountain View City Hall', '27', datetime.datetime(2013, 8, 29, 10, 17), 'Mountain View City Hall', '27', '48', 'Subscriber', '97214']]"
     ]
    }
   ],
   "source": [
    "trip_rdd = sc.textFile(trip_path).filter(lambda x: not x.startswith('id'))\\\n",
    "                                  .map(lambda x:x.split(','))\\\n",
    "                                  .map(lambda x: change_col(x,2,parse))\\\n",
    "                                  .map(lambda x: change_col(x,5,parse))\\\n",
    "                                  \n",
    "trip_rdd.take(3)\n"
   ]
  },
  {
   "cell_type": "code",
   "execution_count": 66,
   "metadata": {},
   "outputs": [
    {
     "data": {
      "application/vnd.jupyter.widget-view+json": {
       "model_id": "adc0ccf727fe4dd7bfb7adc0626854aa",
       "version_major": 2,
       "version_minor": 0
      },
      "text/plain": [
       "VBox()"
      ]
     },
     "metadata": {},
     "output_type": "display_data"
    },
    {
     "data": {
      "application/vnd.jupyter.widget-view+json": {
       "model_id": "",
       "version_major": 2,
       "version_minor": 0
      },
      "text/plain": [
       "FloatProgress(value=0.0, bar_style='info', description='Progress:', layout=Layout(height='25px', width='50%'),…"
      ]
     },
     "metadata": {},
     "output_type": "display_data"
    }
   ],
   "source": [
    "start = trip_rdd.map(lambda x: [type_safe(x[0]), x[2],x[2].hour, type_safe(x[4])])\n",
    "end = trip_rdd.map(lambda x: [type_safe(x[0]), x[5], x[5].hour,type_safe(x[7])])\n"
   ]
  },
  {
   "cell_type": "code",
   "execution_count": 67,
   "metadata": {},
   "outputs": [
    {
     "data": {
      "application/vnd.jupyter.widget-view+json": {
       "model_id": "019d660c093f4d8483742e4ee90a7410",
       "version_major": 2,
       "version_minor": 0
      },
      "text/plain": [
       "VBox()"
      ]
     },
     "metadata": {},
     "output_type": "display_data"
    },
    {
     "data": {
      "application/vnd.jupyter.widget-view+json": {
       "model_id": "",
       "version_major": 2,
       "version_minor": 0
      },
      "text/plain": [
       "FloatProgress(value=0.0, bar_style='info', description='Progress:', layout=Layout(height='25px', width='50%'),…"
      ]
     },
     "metadata": {},
     "output_type": "display_data"
    }
   ],
   "source": [
    "startschema = StructType([\n",
    "    StructField(\"trip_id\",IntegerType(),False),\n",
    "    StructField(\"start_date\", DateType(),False),\n",
    "    StructField(\"start_hour\", IntegerType(),False),\n",
    "    StructField(\"start_station_id\",IntegerType(),False),\n",
    "])\n",
    "\n",
    "endschema = StructType([\n",
    "    StructField(\"trip_id\",IntegerType(),False),\n",
    "    StructField(\"end_date\", DateType(),False),\n",
    "    StructField(\"end_hour\", IntegerType(),False),\n",
    "    StructField(\"end_station_id\",IntegerType(),False),\n",
    "])"
   ]
  },
  {
   "cell_type": "code",
   "execution_count": 68,
   "metadata": {},
   "outputs": [
    {
     "data": {
      "application/vnd.jupyter.widget-view+json": {
       "model_id": "e6a1bdc3a3574b7cbb180d05a81038eb",
       "version_major": 2,
       "version_minor": 0
      },
      "text/plain": [
       "VBox()"
      ]
     },
     "metadata": {},
     "output_type": "display_data"
    },
    {
     "data": {
      "application/vnd.jupyter.widget-view+json": {
       "model_id": "",
       "version_major": 2,
       "version_minor": 0
      },
      "text/plain": [
       "FloatProgress(value=0.0, bar_style='info', description='Progress:', layout=Layout(height='25px', width='50%'),…"
      ]
     },
     "metadata": {},
     "output_type": "display_data"
    }
   ],
   "source": [
    "start_df0 = ss.createDataFrame(start, startschema)\n",
    "end_df0 = ss.createDataFrame(end, endschema)"
   ]
  },
  {
   "cell_type": "code",
   "execution_count": 69,
   "metadata": {
    "scrolled": false
   },
   "outputs": [
    {
     "data": {
      "application/vnd.jupyter.widget-view+json": {
       "model_id": "711b68c1895949d899ade873dd8b00d3",
       "version_major": 2,
       "version_minor": 0
      },
      "text/plain": [
       "VBox()"
      ]
     },
     "metadata": {},
     "output_type": "display_data"
    },
    {
     "data": {
      "application/vnd.jupyter.widget-view+json": {
       "model_id": "",
       "version_major": 2,
       "version_minor": 0
      },
      "text/plain": [
       "FloatProgress(value=0.0, bar_style='info', description='Progress:', layout=Layout(height='25px', width='50%'),…"
      ]
     },
     "metadata": {},
     "output_type": "display_data"
    },
    {
     "name": "stdout",
     "output_type": "stream",
     "text": [
      "+----------------+----------+----------+-----+\n",
      "|start_station_id|start_date|start_hour|count|\n",
      "+----------------+----------+----------+-----+\n",
      "|              49|2013-08-29|        19|    1|\n",
      "|               3|2013-08-29|        20|    1|\n",
      "|              45|2013-08-29|        17|    3|\n",
      "|              77|2013-08-30|        11|    3|\n",
      "|              66|2013-08-30|        10|    4|\n",
      "|              47|2013-09-01|         1|    1|\n",
      "|              28|2013-09-01|        10|    1|\n",
      "|              47|2013-09-01|        16|    2|\n",
      "|              48|2013-09-02|        11|    1|\n",
      "|              76|2013-09-02|        15|    2|\n",
      "|              28|2013-09-02|        20|    2|\n",
      "|              49|2013-09-03|        20|    1|\n",
      "|              47|2013-09-04|         9|    1|\n",
      "|              65|2013-09-05|        16|    3|\n",
      "|               8|2013-09-06|        20|    3|\n",
      "|              73|2013-09-07|         7|    1|\n",
      "|              71|2013-09-07|         9|    6|\n",
      "|              50|2013-09-08|        10|    3|\n",
      "|               6|2013-09-09|        13|    1|\n",
      "|              45|2013-09-09|        13|    1|\n",
      "+----------------+----------+----------+-----+\n",
      "only showing top 20 rows"
     ]
    }
   ],
   "source": [
    "start_result = start_df0.groupby('start_station_id', 'start_date','start_hour').count()\n",
    "start_result.cache().show()"
   ]
  },
  {
   "cell_type": "code",
   "execution_count": 70,
   "metadata": {
    "scrolled": false
   },
   "outputs": [
    {
     "data": {
      "application/vnd.jupyter.widget-view+json": {
       "model_id": "f23acfb6f2f24812bfbc39e1b3c3d41c",
       "version_major": 2,
       "version_minor": 0
      },
      "text/plain": [
       "VBox()"
      ]
     },
     "metadata": {},
     "output_type": "display_data"
    },
    {
     "data": {
      "application/vnd.jupyter.widget-view+json": {
       "model_id": "",
       "version_major": 2,
       "version_minor": 0
      },
      "text/plain": [
       "FloatProgress(value=0.0, bar_style='info', description='Progress:', layout=Layout(height='25px', width='50%'),…"
      ]
     },
     "metadata": {},
     "output_type": "display_data"
    },
    {
     "name": "stdout",
     "output_type": "stream",
     "text": [
      "+--------------+----------+--------+-----+\n",
      "|end_station_id|  end_date|end_hour|count|\n",
      "+--------------+----------+--------+-----+\n",
      "|            65|2015-08-11|      18|    5|\n",
      "|            63|2015-08-11|      16|    2|\n",
      "|            59|2015-08-11|      15|    1|\n",
      "|            54|2015-08-11|      13|    3|\n",
      "|            67|2015-08-11|      12|    2|\n",
      "|            54|2015-08-10|      18|    2|\n",
      "|            84|2015-08-10|      17|    2|\n",
      "|            50|2015-08-10|      15|    4|\n",
      "|            28|2015-08-10|      15|    1|\n",
      "|            12|2015-08-10|       9|    1|\n",
      "|            82|2015-08-10|       8|    9|\n",
      "|            45|2015-08-10|       8|    4|\n",
      "|            70|2015-08-10|       5|    1|\n",
      "|            69|2015-08-09|      17|    2|\n",
      "|            68|2015-08-09|      13|    1|\n",
      "|            63|2015-08-08|      13|    3|\n",
      "|            12|2015-08-07|      21|    1|\n",
      "|            42|2015-08-07|      19|    1|\n",
      "|            48|2015-08-07|       8|    6|\n",
      "|            33|2015-08-06|      22|    2|\n",
      "+--------------+----------+--------+-----+\n",
      "only showing top 20 rows"
     ]
    }
   ],
   "source": [
    "end_result = end_df0.groupby('end_station_id', 'end_date','end_hour').count()\n",
    "end_result.cache().show()"
   ]
  },
  {
   "cell_type": "code",
   "execution_count": 71,
   "metadata": {},
   "outputs": [
    {
     "data": {
      "application/vnd.jupyter.widget-view+json": {
       "model_id": "cc0e0b926b02424a894048b105ccd614",
       "version_major": 2,
       "version_minor": 0
      },
      "text/plain": [
       "VBox()"
      ]
     },
     "metadata": {},
     "output_type": "display_data"
    },
    {
     "data": {
      "application/vnd.jupyter.widget-view+json": {
       "model_id": "",
       "version_major": 2,
       "version_minor": 0
      },
      "text/plain": [
       "FloatProgress(value=0.0, bar_style='info', description='Progress:', layout=Layout(height='25px', width='50%'),…"
      ]
     },
     "metadata": {},
     "output_type": "display_data"
    }
   ],
   "source": [
    "end_result = end_result.withColumnRenamed('count','end_count')"
   ]
  },
  {
   "cell_type": "code",
   "execution_count": 72,
   "metadata": {},
   "outputs": [
    {
     "data": {
      "application/vnd.jupyter.widget-view+json": {
       "model_id": "c5a05064006342e39dfd756e79e68259",
       "version_major": 2,
       "version_minor": 0
      },
      "text/plain": [
       "VBox()"
      ]
     },
     "metadata": {},
     "output_type": "display_data"
    },
    {
     "data": {
      "application/vnd.jupyter.widget-view+json": {
       "model_id": "",
       "version_major": 2,
       "version_minor": 0
      },
      "text/plain": [
       "FloatProgress(value=0.0, bar_style='info', description='Progress:', layout=Layout(height='25px', width='50%'),…"
      ]
     },
     "metadata": {},
     "output_type": "display_data"
    }
   ],
   "source": [
    " result = start_result.join(end_result, (start_result['start_station_id'] == end_result['end_station_id']) \n",
    "                           & (start_result['start_hour'] == end_result['end_hour'])\n",
    "                            & (start_result['start_date'] == end_result['end_date']),\n",
    "                            'inner')\n",
    "    "
   ]
  },
  {
   "cell_type": "code",
   "execution_count": 73,
   "metadata": {},
   "outputs": [
    {
     "data": {
      "application/vnd.jupyter.widget-view+json": {
       "model_id": "f6dd6257dad5439daa6c7141944be85f",
       "version_major": 2,
       "version_minor": 0
      },
      "text/plain": [
       "VBox()"
      ]
     },
     "metadata": {},
     "output_type": "display_data"
    },
    {
     "data": {
      "application/vnd.jupyter.widget-view+json": {
       "model_id": "",
       "version_major": 2,
       "version_minor": 0
      },
      "text/plain": [
       "FloatProgress(value=0.0, bar_style='info', description='Progress:', layout=Layout(height='25px', width='50%'),…"
      ]
     },
     "metadata": {},
     "output_type": "display_data"
    },
    {
     "name": "stdout",
     "output_type": "stream",
     "text": [
      "+----------------+----------+----------+-----+--------------+----------+--------+---------+\n",
      "|start_station_id|start_date|start_hour|count|end_station_id|  end_date|end_hour|end_count|\n",
      "+----------------+----------+----------+-----+--------------+----------+--------+---------+\n",
      "|              49|2013-08-29|        19|    1|            49|2013-08-29|      19|        2|\n",
      "|               3|2013-08-29|        20|    1|             3|2013-08-29|      20|        2|\n",
      "|              66|2013-08-30|        10|    4|            66|2013-08-30|      10|        4|\n",
      "+----------------+----------+----------+-----+--------------+----------+--------+---------+\n",
      "only showing top 3 rows"
     ]
    }
   ],
   "source": [
    "result.show(3)"
   ]
  },
  {
   "cell_type": "code",
   "execution_count": 74,
   "metadata": {},
   "outputs": [
    {
     "data": {
      "application/vnd.jupyter.widget-view+json": {
       "model_id": "0ba340d1a7004a81a6fdbea222b9def4",
       "version_major": 2,
       "version_minor": 0
      },
      "text/plain": [
       "VBox()"
      ]
     },
     "metadata": {},
     "output_type": "display_data"
    },
    {
     "data": {
      "application/vnd.jupyter.widget-view+json": {
       "model_id": "",
       "version_major": 2,
       "version_minor": 0
      },
      "text/plain": [
       "FloatProgress(value=0.0, bar_style='info', description='Progress:', layout=Layout(height='25px', width='50%'),…"
      ]
     },
     "metadata": {},
     "output_type": "display_data"
    }
   ],
   "source": [
    "result_df = result.select('start_station_id','start_date', 'start_hour', 'count', 'end_count')\n"
   ]
  },
  {
   "cell_type": "code",
   "execution_count": 75,
   "metadata": {},
   "outputs": [
    {
     "data": {
      "application/vnd.jupyter.widget-view+json": {
       "model_id": "23f95314cad0481bb1285b5031e76166",
       "version_major": 2,
       "version_minor": 0
      },
      "text/plain": [
       "VBox()"
      ]
     },
     "metadata": {},
     "output_type": "display_data"
    },
    {
     "data": {
      "application/vnd.jupyter.widget-view+json": {
       "model_id": "",
       "version_major": 2,
       "version_minor": 0
      },
      "text/plain": [
       "FloatProgress(value=0.0, bar_style='info', description='Progress:', layout=Layout(height='25px', width='50%'),…"
      ]
     },
     "metadata": {},
     "output_type": "display_data"
    },
    {
     "name": "stdout",
     "output_type": "stream",
     "text": [
      "+----------+----------+----+-----------+---------+\n",
      "|station_id|      date|hour|start_count|end_count|\n",
      "+----------+----------+----+-----------+---------+\n",
      "|        65|2015-08-11|  18|          5|        5|\n",
      "|        63|2015-08-11|  16|          4|        2|\n",
      "|        54|2015-08-10|  18|          1|        2|\n",
      "+----------+----------+----+-----------+---------+\n",
      "only showing top 3 rows"
     ]
    }
   ],
   "source": [
    "\n",
    "result_df = result_df.withColumnRenamed('start_station_id','station_id').withColumnRenamed('start_date','date').withColumnRenamed('start_hour','hour').withColumnRenamed('count','start_count')\n",
    "result_df.cache().show(3)"
   ]
  },
  {
   "cell_type": "code",
   "execution_count": 76,
   "metadata": {},
   "outputs": [
    {
     "data": {
      "application/vnd.jupyter.widget-view+json": {
       "model_id": "5c188800716d444696184fc0075af915",
       "version_major": 2,
       "version_minor": 0
      },
      "text/plain": [
       "VBox()"
      ]
     },
     "metadata": {},
     "output_type": "display_data"
    },
    {
     "data": {
      "application/vnd.jupyter.widget-view+json": {
       "model_id": "",
       "version_major": 2,
       "version_minor": 0
      },
      "text/plain": [
       "FloatProgress(value=0.0, bar_style='info', description='Progress:', layout=Layout(height='25px', width='50%'),…"
      ]
     },
     "metadata": {},
     "output_type": "display_data"
    },
    {
     "name": "stdout",
     "output_type": "stream",
     "text": [
      "+----------+----------+----+------------------+-----------------+----------+----------+---------------+\n",
      "|      date|station_id|hour|   docks_available|  bikes_available|is_weekend|temp_float|rain_identifier|\n",
      "+----------+----------+----+------------------+-----------------+----------+----------+---------------+\n",
      "|2014-02-16|        62|   2|              11.0|              8.0|      true|      56.0|           true|\n",
      "|2014-02-16|        10|   9|               7.0|              8.0|      true|      56.0|           true|\n",
      "|2014-02-16|        14|   8|10.083333333333334|8.916666666666666|      true|      56.0|           true|\n",
      "|2014-02-16|        24|  18|               7.5|              7.5|      true|      56.0|           true|\n",
      "|2014-02-16|        26|   8|               7.0|              8.0|      true|      56.0|           true|\n",
      "+----------+----------+----+------------------+-----------------+----------+----------+---------------+\n",
      "only showing top 5 rows"
     ]
    }
   ],
   "source": [
    "status_weather.show(5)"
   ]
  },
  {
   "cell_type": "code",
   "execution_count": 77,
   "metadata": {},
   "outputs": [
    {
     "data": {
      "application/vnd.jupyter.widget-view+json": {
       "model_id": "bfec0438980048bb93eaad15686f2f1a",
       "version_major": 2,
       "version_minor": 0
      },
      "text/plain": [
       "VBox()"
      ]
     },
     "metadata": {},
     "output_type": "display_data"
    },
    {
     "data": {
      "application/vnd.jupyter.widget-view+json": {
       "model_id": "",
       "version_major": 2,
       "version_minor": 0
      },
      "text/plain": [
       "FloatProgress(value=0.0, bar_style='info', description='Progress:', layout=Layout(height='25px', width='50%'),…"
      ]
     },
     "metadata": {},
     "output_type": "display_data"
    },
    {
     "name": "stdout",
     "output_type": "stream",
     "text": [
      "+----------+----------+----+------------------+------------------+----------+----------+---------------+-----------+---------+\n",
      "|station_id|      date|hour|   docks_available|   bikes_available|is_weekend|temp_float|rain_identifier|start_count|end_count|\n",
      "+----------+----------+----+------------------+------------------+----------+----------+---------------+-----------+---------+\n",
      "|        62|2014-02-16|   2|              11.0|               8.0|      true|      56.0|           true|       null|     null|\n",
      "|        10|2014-02-16|   9|               7.0|               8.0|      true|      56.0|           true|       null|     null|\n",
      "|        14|2014-02-16|   8|10.083333333333334| 8.916666666666666|      true|      56.0|           true|       null|     null|\n",
      "|        24|2014-02-16|  18|               7.5|               7.5|      true|      56.0|           true|       null|     null|\n",
      "|        26|2014-02-16|   8|               7.0|               8.0|      true|      56.0|           true|       null|     null|\n",
      "|        42|2014-02-16|  23|               8.0|               7.0|      true|      56.0|           true|       null|     null|\n",
      "|        45|2014-02-16|   9|               6.0|               9.0|      true|      56.0|           true|       null|     null|\n",
      "|        45|2014-02-16|  15| 6.883333333333334| 8.116666666666667|      true|      56.0|           true|       null|     null|\n",
      "|        46|2014-02-16|   3|               9.0|               6.0|      true|      56.0|           true|       null|     null|\n",
      "|        46|2014-02-16|  17| 7.266666666666667| 7.733333333333333|      true|      56.0|           true|       null|     null|\n",
      "|        66|2014-02-16|  15|11.316666666666666| 7.683333333333334|      true|      56.0|           true|       null|     null|\n",
      "|        68|2014-02-16|  14| 6.766666666666667|12.233333333333333|      true|      56.0|           true|       null|     null|\n",
      "|        72|2014-02-16|   3|              14.0|               9.0|      true|      56.0|           true|       null|     null|\n",
      "|        76|2014-02-16|  14|11.466666666666667| 7.533333333333333|      true|      56.0|           true|          4|        1|\n",
      "|         4|2014-02-16|  19|               8.0|               3.0|      true|      56.0|           true|       null|     null|\n",
      "|         5|2014-02-16|  22|              10.0|               9.0|      true|      56.0|           true|       null|     null|\n",
      "|        27|2014-02-16|  10|               7.0|               8.0|      true|      56.0|           true|       null|     null|\n",
      "|        32|2014-02-16|  11|               5.0|               6.0|      true|      56.0|           true|       null|     null|\n",
      "|        47|2014-02-16|   9| 6.933333333333334|12.066666666666666|      true|      56.0|           true|       null|     null|\n",
      "|        55|2014-02-16|   0|              13.0|              10.0|      true|      56.0|           true|       null|     null|\n",
      "+----------+----------+----+------------------+------------------+----------+----------+---------------+-----------+---------+\n",
      "only showing top 20 rows"
     ]
    }
   ],
   "source": [
    "final_df = status_weather.join(result_df,['station_id','date','hour'],'left_outer')\n",
    "final_df.cache().show()"
   ]
  },
  {
   "cell_type": "code",
   "execution_count": 78,
   "metadata": {},
   "outputs": [
    {
     "data": {
      "application/vnd.jupyter.widget-view+json": {
       "model_id": "b3b48b077e1f45b992a7a341737e1cd3",
       "version_major": 2,
       "version_minor": 0
      },
      "text/plain": [
       "VBox()"
      ]
     },
     "metadata": {},
     "output_type": "display_data"
    },
    {
     "data": {
      "application/vnd.jupyter.widget-view+json": {
       "model_id": "",
       "version_major": 2,
       "version_minor": 0
      },
      "text/plain": [
       "FloatProgress(value=0.0, bar_style='info', description='Progress:', layout=Layout(height='25px', width='50%'),…"
      ]
     },
     "metadata": {},
     "output_type": "display_data"
    },
    {
     "name": "stdout",
     "output_type": "stream",
     "text": [
      "+----------+----------+----+------------------+------------------+----------+----------+---------------+-----------+---------+\n",
      "|station_id|      date|hour|   docks_available|   bikes_available|is_weekend|temp_float|rain_identifier|start_count|end_count|\n",
      "+----------+----------+----+------------------+------------------+----------+----------+---------------+-----------+---------+\n",
      "|        70|2015-01-28|   8| 9.516666666666667| 9.483333333333333|     false|      55.4|          false|         52|       15|\n",
      "|        70|2015-01-07|   8|               9.7|               9.3|     false|      52.4|          false|         45|       21|\n",
      "|        70|2015-02-18|   8|              12.6| 6.066666666666666|     false|      58.0|          false|         44|       16|\n",
      "|        69|2015-06-23|   8| 9.666666666666666|13.333333333333334|     false|      64.8|          false|         44|        9|\n",
      "|        69|2015-03-16|   8|17.016666666666666| 5.916666666666667|     false|      63.0|          false|         43|       12|\n",
      "+----------+----------+----+------------------+------------------+----------+----------+---------------+-----------+---------+\n",
      "only showing top 5 rows"
     ]
    }
   ],
   "source": [
    "final_df.orderBy('start_count',ascending=False).show(5)"
   ]
  },
  {
   "cell_type": "code",
   "execution_count": 79,
   "metadata": {},
   "outputs": [
    {
     "data": {
      "application/vnd.jupyter.widget-view+json": {
       "model_id": "e93ed70ffc3a405ea2d3c040e2a8f090",
       "version_major": 2,
       "version_minor": 0
      },
      "text/plain": [
       "VBox()"
      ]
     },
     "metadata": {},
     "output_type": "display_data"
    },
    {
     "data": {
      "application/vnd.jupyter.widget-view+json": {
       "model_id": "",
       "version_major": 2,
       "version_minor": 0
      },
      "text/plain": [
       "FloatProgress(value=0.0, bar_style='info', description='Progress:', layout=Layout(height='25px', width='50%'),…"
      ]
     },
     "metadata": {},
     "output_type": "display_data"
    },
    {
     "name": "stdout",
     "output_type": "stream",
     "text": [
      "['station_id', 'date', 'hour', 'docks_available', 'bikes_available', 'is_weekend', 'temp_float', 'rain_identifier', 'start_count', 'end_count']"
     ]
    }
   ],
   "source": [
    "final_df.columns"
   ]
  },
  {
   "cell_type": "code",
   "execution_count": 80,
   "metadata": {
    "scrolled": true
   },
   "outputs": [
    {
     "data": {
      "application/vnd.jupyter.widget-view+json": {
       "model_id": "4eacd7521be74530a30b94ac6ee58b7e",
       "version_major": 2,
       "version_minor": 0
      },
      "text/plain": [
       "VBox()"
      ]
     },
     "metadata": {},
     "output_type": "display_data"
    },
    {
     "data": {
      "application/vnd.jupyter.widget-view+json": {
       "model_id": "",
       "version_major": 2,
       "version_minor": 0
      },
      "text/plain": [
       "FloatProgress(value=0.0, bar_style='info', description='Progress:', layout=Layout(height='25px', width='50%'),…"
      ]
     },
     "metadata": {},
     "output_type": "display_data"
    },
    {
     "name": "stdout",
     "output_type": "stream",
     "text": [
      "+----------+----+----------+----------+---------------+--------------------+----------------+--------------+--------------------+\n",
      "|station_id|hour|is_weekend|temp_float|rain_identifier|avg(docks_available)|avg(start_count)|avg(end_count)|avg(bikes_available)|\n",
      "+----------+----+----------+----------+---------------+--------------------+----------------+--------------+--------------------+\n",
      "|        74|   8|      true|      56.0|           true|                10.0|            null|          null|                13.0|\n",
      "|        36|   5|      true|      56.0|           true|                6.25|            null|          null|                8.75|\n",
      "|         8|  23|      true|      56.0|           true|                 6.0|            null|          null|                 9.0|\n",
      "|        37|   6|      true|      56.0|           true|                 5.0|            null|          null|                 6.0|\n",
      "|         3|  18|      true|      56.0|           true|   5.083333333333333|            null|          null|   9.916666666666666|\n",
      "|        28|  17|      true|      56.0|           true|                11.0|            null|          null|                12.0|\n",
      "|        11|   4|      true|      56.0|           true|                 9.5|            null|          null|                 9.5|\n",
      "|        41|   5|      true|      56.0|           true|                 5.0|            null|          null|                10.0|\n",
      "|        55|  15|      true|      56.0|           true|  12.716666666666667|            null|          null|  10.283333333333333|\n",
      "|        23|   3|      true|      56.0|           true|                 8.0|            null|          null|                 7.0|\n",
      "|        80|  22|      true|      56.0|           true|                 8.0|            null|          null|                 7.0|\n",
      "|        74|   7|      true|      56.4|          false|                 9.7|            null|          null|                13.3|\n",
      "|        31|   3|      true|      56.4|          false|                 8.0|            null|          null|                 7.0|\n",
      "|        45|  11|      true|      56.4|          false|   8.016666666666667|            null|          null|   6.983333333333333|\n",
      "|        67|  16|      true|      56.4|          false|   5.266666666666667|             1.0|           1.0|  21.733333333333334|\n",
      "|        45|   1|      true|      56.4|          false|                 9.0|            null|          null|                 6.0|\n",
      "|        12|  21|      true|      56.4|          false|  10.033333333333333|            null|          null|   8.966666666666667|\n",
      "|        64|   6|      true|      56.4|          false|                10.0|            null|          null|                 5.0|\n",
      "|        76|   5|     false|      63.0|          false|                9.09|            null|          null|                9.91|\n",
      "|        58|  15|     false|      63.0|          false|  13.243333333333334|            null|          null|  5.3566666666666665|\n",
      "+----------+----+----------+----------+---------------+--------------------+----------------+--------------+--------------------+\n",
      "only showing top 20 rows"
     ]
    }
   ],
   "source": [
    "final_group = final_df.groupBy('station_id', \n",
    "                 'hour', \n",
    "                 'is_weekend', \n",
    "                 'temp_float',\n",
    "                 'rain_identifier').agg(mean('docks_available')\n",
    "                      ,mean('start_count')\n",
    "                      ,mean('end_count')\n",
    "                      ,mean('bikes_available'))\n",
    "final_group.cache().show()"
   ]
  },
  {
   "cell_type": "code",
   "execution_count": 81,
   "metadata": {},
   "outputs": [
    {
     "data": {
      "application/vnd.jupyter.widget-view+json": {
       "model_id": "f2757781b1b1455d8e4e64c286f7f7d0",
       "version_major": 2,
       "version_minor": 0
      },
      "text/plain": [
       "VBox()"
      ]
     },
     "metadata": {},
     "output_type": "display_data"
    },
    {
     "data": {
      "application/vnd.jupyter.widget-view+json": {
       "model_id": "",
       "version_major": 2,
       "version_minor": 0
      },
      "text/plain": [
       "FloatProgress(value=0.0, bar_style='info', description='Progress:', layout=Layout(height='25px', width='50%'),…"
      ]
     },
     "metadata": {},
     "output_type": "display_data"
    },
    {
     "name": "stdout",
     "output_type": "stream",
     "text": [
      "+----------+----+----------+----------+---------------+-----------------+-----------+---------+-----------------+\n",
      "|station_id|hour|is_weekend|temp_float|rain_identifier|  docks_available|start_count|end_count|  bikes_available|\n",
      "+----------+----+----------+----------+---------------+-----------------+-----------+---------+-----------------+\n",
      "|        74|   8|      true|      56.0|           true|             10.0|       null|     null|             13.0|\n",
      "|        36|   5|      true|      56.0|           true|             6.25|       null|     null|             8.75|\n",
      "|         8|  23|      true|      56.0|           true|              6.0|       null|     null|              9.0|\n",
      "|        37|   6|      true|      56.0|           true|              5.0|       null|     null|              6.0|\n",
      "|         3|  18|      true|      56.0|           true|5.083333333333333|       null|     null|9.916666666666666|\n",
      "+----------+----+----------+----------+---------------+-----------------+-----------+---------+-----------------+\n",
      "only showing top 5 rows"
     ]
    }
   ],
   "source": [
    "final_group=final_group.withColumnRenamed('avg(docks_available)','docks_available').withColumnRenamed('avg(start_count)','start_count')\\\n",
    ".withColumnRenamed('avg(end_count)','end_count').withColumnRenamed('avg(bikes_available)','bikes_available')\n",
    "final_group.show(5)"
   ]
  },
  {
   "cell_type": "code",
   "execution_count": 84,
   "metadata": {},
   "outputs": [
    {
     "data": {
      "application/vnd.jupyter.widget-view+json": {
       "model_id": "4ea591f578a841418a46cd443060a98b",
       "version_major": 2,
       "version_minor": 0
      },
      "text/plain": [
       "VBox()"
      ]
     },
     "metadata": {},
     "output_type": "display_data"
    },
    {
     "data": {
      "application/vnd.jupyter.widget-view+json": {
       "model_id": "",
       "version_major": 2,
       "version_minor": 0
      },
      "text/plain": [
       "FloatProgress(value=0.0, bar_style='info', description='Progress:', layout=Layout(height='25px', width='50%'),…"
      ]
     },
     "metadata": {},
     "output_type": "display_data"
    },
    {
     "name": "stdout",
     "output_type": "stream",
     "text": [
      "+----------+----+----------+----------+---------------+-----------------+-----------+---------+-----------------+-----------+\n",
      "|station_id|hour|is_weekend|temp_float|rain_identifier|  docks_available|start_count|end_count|  bikes_available|total_docks|\n",
      "+----------+----+----------+----------+---------------+-----------------+-----------+---------+-----------------+-----------+\n",
      "|        74|   8|      true|      56.0|           true|             10.0|       null|     null|             13.0|       23.0|\n",
      "|        36|   5|      true|      56.0|           true|             6.25|       null|     null|             8.75|       15.0|\n",
      "|         8|  23|      true|      56.0|           true|              6.0|       null|     null|              9.0|       15.0|\n",
      "|        37|   6|      true|      56.0|           true|              5.0|       null|     null|              6.0|       11.0|\n",
      "|         3|  18|      true|      56.0|           true|5.083333333333333|       null|     null|9.916666666666666|       15.0|\n",
      "+----------+----+----------+----------+---------------+-----------------+-----------+---------+-----------------+-----------+\n",
      "only showing top 5 rows"
     ]
    }
   ],
   "source": [
    "final_group = final_group.withColumn('total_docks',final_group['docks_available']+final_group['bikes_available'])\n",
    "final_group.cache().show(5)"
   ]
  },
  {
   "cell_type": "code",
   "execution_count": 85,
   "metadata": {},
   "outputs": [
    {
     "data": {
      "application/vnd.jupyter.widget-view+json": {
       "model_id": "62b362ce551f494b85db66b4647421b2",
       "version_major": 2,
       "version_minor": 0
      },
      "text/plain": [
       "VBox()"
      ]
     },
     "metadata": {},
     "output_type": "display_data"
    },
    {
     "data": {
      "application/vnd.jupyter.widget-view+json": {
       "model_id": "",
       "version_major": 2,
       "version_minor": 0
      },
      "text/plain": [
       "FloatProgress(value=0.0, bar_style='info', description='Progress:', layout=Layout(height='25px', width='50%'),…"
      ]
     },
     "metadata": {},
     "output_type": "display_data"
    },
    {
     "name": "stdout",
     "output_type": "stream",
     "text": [
      "+----------+----+----------+----------+---------------+-----------+---------+-----------------+-----------+\n",
      "|station_id|hour|is_weekend|temp_float|rain_identifier|start_count|end_count|  bikes_available|total_docks|\n",
      "+----------+----+----------+----------+---------------+-----------+---------+-----------------+-----------+\n",
      "|        74|   8|      true|      56.0|           true|       null|     null|             13.0|       23.0|\n",
      "|        36|   5|      true|      56.0|           true|       null|     null|             8.75|       15.0|\n",
      "|         8|  23|      true|      56.0|           true|       null|     null|              9.0|       15.0|\n",
      "|        37|   6|      true|      56.0|           true|       null|     null|              6.0|       11.0|\n",
      "|         3|  18|      true|      56.0|           true|       null|     null|9.916666666666666|       15.0|\n",
      "+----------+----+----------+----------+---------------+-----------+---------+-----------------+-----------+\n",
      "only showing top 5 rows"
     ]
    }
   ],
   "source": [
    "final_group = final_group.drop('docks_available')\n",
    "final_group.cache().show(5)"
   ]
  },
  {
   "cell_type": "code",
   "execution_count": 86,
   "metadata": {
    "scrolled": false
   },
   "outputs": [
    {
     "data": {
      "application/vnd.jupyter.widget-view+json": {
       "model_id": "fa4a5de8ef2f4843873cd6c883f7259f",
       "version_major": 2,
       "version_minor": 0
      },
      "text/plain": [
       "VBox()"
      ]
     },
     "metadata": {},
     "output_type": "display_data"
    },
    {
     "data": {
      "application/vnd.jupyter.widget-view+json": {
       "model_id": "",
       "version_major": 2,
       "version_minor": 0
      },
      "text/plain": [
       "FloatProgress(value=0.0, bar_style='info', description='Progress:', layout=Layout(height='25px', width='50%'),…"
      ]
     },
     "metadata": {},
     "output_type": "display_data"
    }
   ],
   "source": [
    "fc"
   ]
  },
  {
   "cell_type": "code",
   "execution_count": 9,
   "metadata": {},
   "outputs": [
    {
     "data": {
      "application/vnd.jupyter.widget-view+json": {
       "model_id": "b1eccc77670641d598fb1b0d5d7b5730",
       "version_major": 2,
       "version_minor": 0
      },
      "text/plain": [
       "VBox()"
      ]
     },
     "metadata": {},
     "output_type": "display_data"
    },
    {
     "data": {
      "application/vnd.jupyter.widget-view+json": {
       "model_id": "",
       "version_major": 2,
       "version_minor": 0
      },
      "text/plain": [
       "FloatProgress(value=0.0, bar_style='info', description='Progress:', layout=Layout(height='25px', width='50%'),…"
      ]
     },
     "metadata": {},
     "output_type": "display_data"
    },
    {
     "name": "stderr",
     "output_type": "stream",
     "text": [
      "name 'final_df' is not defined\n",
      "Traceback (most recent call last):\n",
      "NameError: name 'final_df' is not defined\n",
      "\n"
     ]
    }
   ],
   "source": [
    "#final_df.write.option(\"path\", \"/df\").saveAsTable('final_data_frame')"
   ]
  },
  {
   "cell_type": "code",
   "execution_count": null,
   "metadata": {},
   "outputs": [],
   "source": [
    "ss.sql(\"select * from parquet. `/df`\").show()"
   ]
  },
  {
   "cell_type": "code",
   "execution_count": 3,
   "metadata": {
    "scrolled": false
   },
   "outputs": [
    {
     "data": {
      "application/vnd.jupyter.widget-view+json": {
       "model_id": "597a5d1f23a7437a9a55e1f02937354e",
       "version_major": 2,
       "version_minor": 0
      },
      "text/plain": [
       "VBox()"
      ]
     },
     "metadata": {},
     "output_type": "display_data"
    },
    {
     "data": {
      "application/vnd.jupyter.widget-view+json": {
       "model_id": "",
       "version_major": 2,
       "version_minor": 0
      },
      "text/plain": [
       "FloatProgress(value=0.0, bar_style='info', description='Progress:', layout=Layout(height='25px', width='50%'),…"
      ]
     },
     "metadata": {},
     "output_type": "display_data"
    }
   ],
   "source": [
    "df=ss.sql(\"select * from parquet. `s3://msds694.proj/data/parquet/final_group`\")"
   ]
  },
  {
   "cell_type": "code",
   "execution_count": 8,
   "metadata": {
    "scrolled": false
   },
   "outputs": [
    {
     "data": {
      "application/vnd.jupyter.widget-view+json": {
       "model_id": "86017a1c3ce947a5a1c58b965a48a1af",
       "version_major": 2,
       "version_minor": 0
      },
      "text/plain": [
       "VBox()"
      ]
     },
     "metadata": {},
     "output_type": "display_data"
    },
    {
     "data": {
      "application/vnd.jupyter.widget-view+json": {
       "model_id": "",
       "version_major": 2,
       "version_minor": 0
      },
      "text/plain": [
       "FloatProgress(value=0.0, bar_style='info', description='Progress:', layout=Layout(height='25px', width='50%'),…"
      ]
     },
     "metadata": {},
     "output_type": "display_data"
    }
   ],
   "source": [
    "df_test=ss.read.parquet(\"s3://msds694.proj/data/parquet/final_group\")"
   ]
  },
  {
   "cell_type": "code",
   "execution_count": 9,
   "metadata": {
    "scrolled": true
   },
   "outputs": [
    {
     "data": {
      "application/vnd.jupyter.widget-view+json": {
       "model_id": "253440ec678b4b32a4ff1f8eff85d0c1",
       "version_major": 2,
       "version_minor": 0
      },
      "text/plain": [
       "VBox()"
      ]
     },
     "metadata": {},
     "output_type": "display_data"
    },
    {
     "data": {
      "application/vnd.jupyter.widget-view+json": {
       "model_id": "",
       "version_major": 2,
       "version_minor": 0
      },
      "text/plain": [
       "FloatProgress(value=0.0, bar_style='info', description='Progress:', layout=Layout(height='25px', width='50%'),…"
      ]
     },
     "metadata": {},
     "output_type": "display_data"
    },
    {
     "name": "stdout",
     "output_type": "stream",
     "text": [
      "+----------+----+----------+----------+---------------+-----------+---------+------------------+-----------+\n",
      "|station_id|hour|is_weekend|temp_float|rain_identifier|start_count|end_count|   bikes_available|total_docks|\n",
      "+----------+----+----------+----------+---------------+-----------+---------+------------------+-----------+\n",
      "|        34|  13|      true|      56.0|           true|       null|     null|               8.0|       23.0|\n",
      "|        35|   4|      true|      56.0|           true|       null|     null|               6.0|       11.0|\n",
      "|         9|  14|      true|      56.0|           true|       null|     null|               7.0|       15.0|\n",
      "|        28|  10|      true|      56.0|           true|       null|     null|              12.0|       23.0|\n",
      "|        37|  16|      true|      56.0|           true|       null|     null|3.8666666666666667|       11.0|\n",
      "+----------+----+----------+----------+---------------+-----------+---------+------------------+-----------+\n",
      "only showing top 5 rows"
     ]
    }
   ],
   "source": [
    "df_test.show(5)"
   ]
  },
  {
   "cell_type": "code",
   "execution_count": 69,
   "metadata": {},
   "outputs": [
    {
     "data": {
      "application/vnd.jupyter.widget-view+json": {
       "model_id": "4515f22e10544721b1691df4a06a6727",
       "version_major": 2,
       "version_minor": 0
      },
      "text/plain": [
       "VBox()"
      ]
     },
     "metadata": {},
     "output_type": "display_data"
    },
    {
     "data": {
      "application/vnd.jupyter.widget-view+json": {
       "model_id": "",
       "version_major": 2,
       "version_minor": 0
      },
      "text/plain": [
       "FloatProgress(value=0.0, bar_style='info', description='Progress:', layout=Layout(height='25px', width='50%'),…"
      ]
     },
     "metadata": {},
     "output_type": "display_data"
    },
    {
     "name": "stdout",
     "output_type": "stream",
     "text": [
      "35"
     ]
    }
   ],
   "source": [
    "station_population_sf = station_population_sf.select('id','population')\n",
    "station_population_sf.show()"
   ]
  },
  {
   "cell_type": "code",
   "execution_count": 73,
   "metadata": {},
   "outputs": [
    {
     "data": {
      "application/vnd.jupyter.widget-view+json": {
       "model_id": "90bd03cf0ff648c891cdf95c7fb8a8e8",
       "version_major": 2,
       "version_minor": 0
      },
      "text/plain": [
       "VBox()"
      ]
     },
     "metadata": {},
     "output_type": "display_data"
    },
    {
     "data": {
      "application/vnd.jupyter.widget-view+json": {
       "model_id": "",
       "version_major": 2,
       "version_minor": 0
      },
      "text/plain": [
       "FloatProgress(value=0.0, bar_style='info', description='Progress:', layout=Layout(height='25px', width='50%'),…"
      ]
     },
     "metadata": {},
     "output_type": "display_data"
    },
    {
     "name": "stdout",
     "output_type": "stream",
     "text": [
      "+---+----------+\n",
      "| id|population|\n",
      "+---+----------+\n",
      "| 41|      9447|\n",
      "| 42|      5535|\n",
      "| 45|      9447|\n",
      "| 46|    34,557|\n",
      "| 47|      4681|\n",
      "| 48|      5535|\n",
      "| 49|      1532|\n",
      "| 50|      9447|\n",
      "| 51|      9447|\n",
      "| 39|      4681|\n",
      "| 54|      1532|\n",
      "| 55|    39,050|\n",
      "| 56|      9447|\n",
      "| 57|    39,050|\n",
      "| 58|     10101|\n",
      "| 59|    10,101|\n",
      "| 60|      5535|\n",
      "| 61|    16,156|\n",
      "| 62|      1532|\n",
      "| 63|    39,050|\n",
      "+---+----------+\n",
      "only showing top 20 rows"
     ]
    }
   ],
   "source": [
    "station_population_sf.show()"
   ]
  },
  {
   "cell_type": "code",
   "execution_count": 122,
   "metadata": {},
   "outputs": [
    {
     "data": {
      "application/vnd.jupyter.widget-view+json": {
       "model_id": "7907f4e06dd04dfbbcc72457920e39ef",
       "version_major": 2,
       "version_minor": 0
      },
      "text/plain": [
       "VBox()"
      ]
     },
     "metadata": {},
     "output_type": "display_data"
    },
    {
     "data": {
      "application/vnd.jupyter.widget-view+json": {
       "model_id": "",
       "version_major": 2,
       "version_minor": 0
      },
      "text/plain": [
       "FloatProgress(value=0.0, bar_style='info', description='Progress:', layout=Layout(height='25px', width='50%'),…"
      ]
     },
     "metadata": {},
     "output_type": "display_data"
    }
   ],
   "source": [
    "model_data=df_test.join(station_population,'station_id','inner')"
   ]
  },
  {
   "cell_type": "code",
   "execution_count": 123,
   "metadata": {},
   "outputs": [
    {
     "data": {
      "application/vnd.jupyter.widget-view+json": {
       "model_id": "6edab45d7a3e41398663676680a9dd56",
       "version_major": 2,
       "version_minor": 0
      },
      "text/plain": [
       "VBox()"
      ]
     },
     "metadata": {},
     "output_type": "display_data"
    },
    {
     "data": {
      "application/vnd.jupyter.widget-view+json": {
       "model_id": "",
       "version_major": 2,
       "version_minor": 0
      },
      "text/plain": [
       "FloatProgress(value=0.0, bar_style='info', description='Progress:', layout=Layout(height='25px', width='50%'),…"
      ]
     },
     "metadata": {},
     "output_type": "display_data"
    }
   ],
   "source": [
    "model_data_final=model_data.na.fill(0)"
   ]
  },
  {
   "cell_type": "code",
   "execution_count": 125,
   "metadata": {},
   "outputs": [
    {
     "data": {
      "application/vnd.jupyter.widget-view+json": {
       "model_id": "43dc0fe7261c44bbab83a7c0dffa9e9c",
       "version_major": 2,
       "version_minor": 0
      },
      "text/plain": [
       "VBox()"
      ]
     },
     "metadata": {},
     "output_type": "display_data"
    },
    {
     "data": {
      "application/vnd.jupyter.widget-view+json": {
       "model_id": "",
       "version_major": 2,
       "version_minor": 0
      },
      "text/plain": [
       "FloatProgress(value=0.0, bar_style='info', description='Progress:', layout=Layout(height='25px', width='50%'),…"
      ]
     },
     "metadata": {},
     "output_type": "display_data"
    },
    {
     "name": "stdout",
     "output_type": "stream",
     "text": [
      "+----------+----+----------+----------+---------------+-----------+---------+-----------------+------------------+----------+\n",
      "|station_id|hour|is_weekend|temp_float|rain_identifier|start_count|end_count|  bikes_available|       total_docks|population|\n",
      "+----------+----+----------+----------+---------------+-----------+---------+-----------------+------------------+----------+\n",
      "|        41|  19|     false|      72.8|          false|        0.0|      0.0|             3.65|             14.55|      9447|\n",
      "|        41|  13|     false|      65.0|          false|        2.0|      1.0|9.422222222222222|              15.0|      9447|\n",
      "|        41|   8|     false|      68.8|          false|        1.0|      6.0|7.522222222222222|14.683333333333334|      9447|\n",
      "|        41|  19|     false|      51.2|          false|        0.0|      0.0|              6.6|              15.0|      9447|\n",
      "|        41|  11|     false|      55.8|           true|        0.0|      0.0|             12.0|              15.0|      9447|\n",
      "+----------+----+----------+----------+---------------+-----------+---------+-----------------+------------------+----------+\n",
      "only showing top 5 rows"
     ]
    }
   ],
   "source": [
    "model_data_final.show(5)"
   ]
  },
  {
   "cell_type": "code",
   "execution_count": null,
   "metadata": {},
   "outputs": [],
   "source": []
  },
  {
   "cell_type": "code",
   "execution_count": null,
   "metadata": {},
   "outputs": [],
   "source": []
  },
  {
   "cell_type": "code",
   "execution_count": 126,
   "metadata": {},
   "outputs": [
    {
     "data": {
      "application/vnd.jupyter.widget-view+json": {
       "model_id": "e37b310e5904454799962e3b339191cf",
       "version_major": 2,
       "version_minor": 0
      },
      "text/plain": [
       "VBox()"
      ]
     },
     "metadata": {},
     "output_type": "display_data"
    },
    {
     "data": {
      "application/vnd.jupyter.widget-view+json": {
       "model_id": "",
       "version_major": 2,
       "version_minor": 0
      },
      "text/plain": [
       "FloatProgress(value=0.0, bar_style='info', description='Progress:', layout=Layout(height='25px', width='50%'),…"
      ]
     },
     "metadata": {},
     "output_type": "display_data"
    }
   ],
   "source": [
    " #save to our s3 bucket\n",
    "model_data_final.write.mode(\"overwrite\")\\\n",
    "        .parquet(\"s3://msds694.proj/data/parquet/model_data_final\")"
   ]
  },
  {
   "cell_type": "markdown",
   "metadata": {},
   "source": [
    "# group-project assignment 2 stops here"
   ]
  },
  {
   "cell_type": "markdown",
   "metadata": {},
   "source": [
    "# Machine learning"
   ]
  },
  {
   "cell_type": "code",
   "execution_count": 5,
   "metadata": {},
   "outputs": [
    {
     "data": {
      "application/vnd.jupyter.widget-view+json": {
       "model_id": "836e160cfb6944fd93ef4683f77600d0",
       "version_major": 2,
       "version_minor": 0
      },
      "text/plain": [
       "VBox()"
      ]
     },
     "metadata": {},
     "output_type": "display_data"
    },
    {
     "data": {
      "application/vnd.jupyter.widget-view+json": {
       "model_id": "",
       "version_major": 2,
       "version_minor": 0
      },
      "text/plain": [
       "FloatProgress(value=0.0, bar_style='info', description='Progress:', layout=Layout(height='25px', width='50%'),…"
      ]
     },
     "metadata": {},
     "output_type": "display_data"
    }
   ],
   "source": [
    "df=ss.read.parquet(\"s3://msds694.proj/data/parquet/model_data_final\")"
   ]
  },
  {
   "cell_type": "code",
   "execution_count": 6,
   "metadata": {
    "scrolled": true
   },
   "outputs": [
    {
     "data": {
      "application/vnd.jupyter.widget-view+json": {
       "model_id": "bd318d1e3d2e49ad887469c4572c4153",
       "version_major": 2,
       "version_minor": 0
      },
      "text/plain": [
       "VBox()"
      ]
     },
     "metadata": {},
     "output_type": "display_data"
    },
    {
     "data": {
      "application/vnd.jupyter.widget-view+json": {
       "model_id": "",
       "version_major": 2,
       "version_minor": 0
      },
      "text/plain": [
       "FloatProgress(value=0.0, bar_style='info', description='Progress:', layout=Layout(height='25px', width='50%'),…"
      ]
     },
     "metadata": {},
     "output_type": "display_data"
    },
    {
     "name": "stdout",
     "output_type": "stream",
     "text": [
      "+----------+----+----------+----------+---------------+-----------+---------+-----------------+-----------+----------+\n",
      "|station_id|hour|is_weekend|temp_float|rain_identifier|start_count|end_count|  bikes_available|total_docks|population|\n",
      "+----------+----+----------+----------+---------------+-----------+---------+-----------------+-----------+----------+\n",
      "|        49|  13|     false|      51.2|           true|        0.0|      0.0|              8.0|       19.0|      1532|\n",
      "|        49|  23|     false|      78.2|          false|        0.0|      0.0|             10.0|       19.0|      1532|\n",
      "|        49|   5|      true|      74.0|          false|        0.0|      0.0|4.283333333333333|       19.0|      1532|\n",
      "|        49|  11|     false|      53.2|           true|        0.0|      0.0|9.216666666666667|       19.0|      1532|\n",
      "|        49|  15|     false|      53.2|           true|        0.0|      0.0|              9.0|       19.0|      1532|\n",
      "+----------+----+----------+----------+---------------+-----------+---------+-----------------+-----------+----------+\n",
      "only showing top 5 rows"
     ]
    }
   ],
   "source": [
    "df.show(5)"
   ]
  },
  {
   "cell_type": "code",
   "execution_count": 7,
   "metadata": {
    "scrolled": false
   },
   "outputs": [
    {
     "data": {
      "application/vnd.jupyter.widget-view+json": {
       "model_id": "f1ded9a054754a05b3c4c887712a36d0",
       "version_major": 2,
       "version_minor": 0
      },
      "text/plain": [
       "VBox()"
      ]
     },
     "metadata": {},
     "output_type": "display_data"
    },
    {
     "data": {
      "application/vnd.jupyter.widget-view+json": {
       "model_id": "",
       "version_major": 2,
       "version_minor": 0
      },
      "text/plain": [
       "FloatProgress(value=0.0, bar_style='info', description='Progress:', layout=Layout(height='25px', width='50%'),…"
      ]
     },
     "metadata": {},
     "output_type": "display_data"
    }
   ],
   "source": [
    "dfrp=df.na.fill(0)"
   ]
  },
  {
   "cell_type": "code",
   "execution_count": 8,
   "metadata": {
    "scrolled": false
   },
   "outputs": [
    {
     "data": {
      "application/vnd.jupyter.widget-view+json": {
       "model_id": "953490b140ea48d4ba712c8eb4650beb",
       "version_major": 2,
       "version_minor": 0
      },
      "text/plain": [
       "VBox()"
      ]
     },
     "metadata": {},
     "output_type": "display_data"
    },
    {
     "data": {
      "application/vnd.jupyter.widget-view+json": {
       "model_id": "",
       "version_major": 2,
       "version_minor": 0
      },
      "text/plain": [
       "FloatProgress(value=0.0, bar_style='info', description='Progress:', layout=Layout(height='25px', width='50%'),…"
      ]
     },
     "metadata": {},
     "output_type": "display_data"
    }
   ],
   "source": [
    "dfrp1=dfrp.withColumn('population',dfrp['population'].cast('integer'))"
   ]
  },
  {
   "cell_type": "code",
   "execution_count": 9,
   "metadata": {
    "scrolled": true
   },
   "outputs": [
    {
     "data": {
      "application/vnd.jupyter.widget-view+json": {
       "model_id": "23812faaa2e1452f97c604ea1abfacce",
       "version_major": 2,
       "version_minor": 0
      },
      "text/plain": [
       "VBox()"
      ]
     },
     "metadata": {},
     "output_type": "display_data"
    },
    {
     "data": {
      "application/vnd.jupyter.widget-view+json": {
       "model_id": "",
       "version_major": 2,
       "version_minor": 0
      },
      "text/plain": [
       "FloatProgress(value=0.0, bar_style='info', description='Progress:', layout=Layout(height='25px', width='50%'),…"
      ]
     },
     "metadata": {},
     "output_type": "display_data"
    },
    {
     "name": "stdout",
     "output_type": "stream",
     "text": [
      "+----------+----+----------+----------+---------------+------------------+------------------+------------------+------------------+----------+\n",
      "|station_id|hour|is_weekend|temp_float|rain_identifier|       start_count|         end_count|   bikes_available|       total_docks|population|\n",
      "+----------+----+----------+----------+---------------+------------------+------------------+------------------+------------------+----------+\n",
      "|        49|  13|     false|      51.2|           true|               0.0|               0.0|               8.0|              19.0|      1532|\n",
      "|        49|  23|     false|      78.2|          false|               0.0|               0.0|              10.0|              19.0|      1532|\n",
      "|        49|   5|      true|      74.0|          false|               0.0|               0.0| 4.283333333333333|              19.0|      1532|\n",
      "|        49|  11|     false|      53.2|           true|               0.0|               0.0| 9.216666666666667|              19.0|      1532|\n",
      "|        49|  15|     false|      53.2|           true|               0.0|               0.0|               9.0|              19.0|      1532|\n",
      "|        49|  20|      true|      64.2|          false|               0.0|               0.0|               6.0|              19.0|      1532|\n",
      "|        49|   5|     false|      58.2|           true|               0.0|               0.0|              10.0|              19.0|      1532|\n",
      "|        49|  13|     false|      57.8|           true|               0.0|               0.0|              11.0|              19.0|      1532|\n",
      "|        49|  11|      true|      56.8|          false|               1.0|               2.0|               5.2|              19.0|      1532|\n",
      "|        49|   3|     false|      60.8|           true|               0.0|               0.0|              13.0|              19.0|      1532|\n",
      "|        49|  21|     false|      66.0|           true|               0.0|               0.0|              12.0|              19.0|      1532|\n",
      "|        49|  10|      true|      60.6|          false|               0.0|               0.0|6.8559322033898304|              19.0|      1532|\n",
      "|        49|   0|     false|      55.8|           true|               0.0|               0.0|               7.0|              19.0|      1532|\n",
      "|        49|   6|     false|      52.0|          false|               0.0|               0.0| 7.794444444444444|              19.0|      1532|\n",
      "|        49|   5|     false|      63.8|          false|               0.0|               0.0|               8.0|              19.0|      1532|\n",
      "|        49|   6|     false|      63.8|          false|               1.0|               2.0| 8.208333333333334|              19.0|      1532|\n",
      "|        49|  12|     false|      60.2|          false|               1.5|               1.5|            10.275|              19.0|      1532|\n",
      "|        49|  19|     false|      69.4|          false|1.6666666666666667|2.6666666666666665| 9.891666666666667|18.666666666666668|      1532|\n",
      "|        49|   4|      true|      56.2|          false|               0.0|               0.0|               6.0|              19.0|      1532|\n",
      "|        49|   4|      true|      53.4|          false|               0.0|               0.0|               4.0|              19.0|      1532|\n",
      "+----------+----+----------+----------+---------------+------------------+------------------+------------------+------------------+----------+\n",
      "only showing top 20 rows"
     ]
    }
   ],
   "source": [
    "dfrp1.show()"
   ]
  },
  {
   "cell_type": "code",
   "execution_count": 10,
   "metadata": {},
   "outputs": [
    {
     "data": {
      "application/vnd.jupyter.widget-view+json": {
       "model_id": "707600be31da46c9aef09aee0b0b554d",
       "version_major": 2,
       "version_minor": 0
      },
      "text/plain": [
       "VBox()"
      ]
     },
     "metadata": {},
     "output_type": "display_data"
    },
    {
     "data": {
      "application/vnd.jupyter.widget-view+json": {
       "model_id": "",
       "version_major": 2,
       "version_minor": 0
      },
      "text/plain": [
       "FloatProgress(value=0.0, bar_style='info', description='Progress:', layout=Layout(height='25px', width='50%'),…"
      ]
     },
     "metadata": {},
     "output_type": "display_data"
    }
   ],
   "source": [
    "#converting strings to numeric values\n",
    "from pyspark.ml.feature import StringIndexer\n",
    "\n",
    "def indexStringColumns(df, cols):\n",
    "    #variable newdf will be updated several times\n",
    "    newdf = df\n",
    "    \n",
    "    for c in cols:\n",
    "        #For each given colum, fits StringIndexerModel.\n",
    "        si = StringIndexer(inputCol=c, outputCol=c+\"-num\",stringOrderType=\"alphabetAsc\")\n",
    "        sm = si.fit(newdf)\n",
    "        #Creates a DataFame by putting the transformed values in the new colum with suffix \"-num\" \n",
    "        #and then drops the original columns.\n",
    "        #and drop the \"-num\" suffix. \n",
    "        newdf = sm.transform(newdf).drop(c)\n",
    "        newdf = newdf.withColumnRenamed(c+\"-num\", c)\n",
    "    return newdf\n",
    "\n",
    "dfnumeric = indexStringColumns(dfrp1, ['rain_identifier'])"
   ]
  },
  {
   "cell_type": "code",
   "execution_count": 11,
   "metadata": {},
   "outputs": [
    {
     "data": {
      "application/vnd.jupyter.widget-view+json": {
       "model_id": "a7fa0cff1a114869a2d19a2cd478d9c7",
       "version_major": 2,
       "version_minor": 0
      },
      "text/plain": [
       "VBox()"
      ]
     },
     "metadata": {},
     "output_type": "display_data"
    },
    {
     "data": {
      "application/vnd.jupyter.widget-view+json": {
       "model_id": "",
       "version_major": 2,
       "version_minor": 0
      },
      "text/plain": [
       "FloatProgress(value=0.0, bar_style='info', description='Progress:', layout=Layout(height='25px', width='50%'),…"
      ]
     },
     "metadata": {},
     "output_type": "display_data"
    }
   ],
   "source": [
    "df_model=dfnumeric.select('station_id','hour','is_weekend','temp_float','total_docks','start_count','end_count'\\\n",
    "                   ,'rain_identifier','population','bikes_available')"
   ]
  },
  {
   "cell_type": "code",
   "execution_count": 12,
   "metadata": {},
   "outputs": [
    {
     "data": {
      "application/vnd.jupyter.widget-view+json": {
       "model_id": "24a5ce33243b4755985c57716eeeda02",
       "version_major": 2,
       "version_minor": 0
      },
      "text/plain": [
       "VBox()"
      ]
     },
     "metadata": {},
     "output_type": "display_data"
    },
    {
     "data": {
      "application/vnd.jupyter.widget-view+json": {
       "model_id": "",
       "version_major": 2,
       "version_minor": 0
      },
      "text/plain": [
       "FloatProgress(value=0.0, bar_style='info', description='Progress:', layout=Layout(height='25px', width='50%'),…"
      ]
     },
     "metadata": {},
     "output_type": "display_data"
    }
   ],
   "source": [
    "# Merging the data with Vector Assembler.\n",
    "va = VectorAssembler(outputCol=\"features\", inputCols=df_model.columns[0:-1]) #except the last col.\n",
    "bikepoints = va.transform(df_model).select(\"features\", \"bikes_available\")"
   ]
  },
  {
   "cell_type": "code",
   "execution_count": 67,
   "metadata": {},
   "outputs": [
    {
     "data": {
      "application/vnd.jupyter.widget-view+json": {
       "model_id": "17e49418205e4a7e8b56a58192a70951",
       "version_major": 2,
       "version_minor": 0
      },
      "text/plain": [
       "VBox()"
      ]
     },
     "metadata": {},
     "output_type": "display_data"
    },
    {
     "data": {
      "application/vnd.jupyter.widget-view+json": {
       "model_id": "",
       "version_major": 2,
       "version_minor": 0
      },
      "text/plain": [
       "FloatProgress(value=0.0, bar_style='info', description='Progress:', layout=Layout(height='25px', width='50%'),…"
      ]
     },
     "metadata": {},
     "output_type": "display_data"
    },
    {
     "name": "stdout",
     "output_type": "stream",
     "text": [
      "+--------------------+-----------------+\n",
      "|            features|  bikes_available|\n",
      "+--------------------+-----------------+\n",
      "|[49.0,13.0,0.0,51...|              8.0|\n",
      "|[49.0,23.0,0.0,78...|             10.0|\n",
      "|[49.0,5.0,1.0,74....|4.283333333333333|\n",
      "+--------------------+-----------------+\n",
      "only showing top 3 rows"
     ]
    }
   ],
   "source": [
    "bikepoints.show(3)"
   ]
  },
  {
   "cell_type": "code",
   "execution_count": 13,
   "metadata": {},
   "outputs": [
    {
     "data": {
      "application/vnd.jupyter.widget-view+json": {
       "model_id": "fdc40cd1b99b49cb8ff5b9ca6d0fa873",
       "version_major": 2,
       "version_minor": 0
      },
      "text/plain": [
       "VBox()"
      ]
     },
     "metadata": {},
     "output_type": "display_data"
    },
    {
     "data": {
      "application/vnd.jupyter.widget-view+json": {
       "model_id": "",
       "version_major": 2,
       "version_minor": 0
      },
      "text/plain": [
       "FloatProgress(value=0.0, bar_style='info', description='Progress:', layout=Layout(height='25px', width='50%'),…"
      ]
     },
     "metadata": {},
     "output_type": "display_data"
    }
   ],
   "source": [
    "bikepoints=bikepoints.withColumnRenamed('bikes_available','label')"
   ]
  },
  {
   "cell_type": "code",
   "execution_count": 14,
   "metadata": {},
   "outputs": [
    {
     "data": {
      "application/vnd.jupyter.widget-view+json": {
       "model_id": "d546235777474186aa84c34c0265c9ef",
       "version_major": 2,
       "version_minor": 0
      },
      "text/plain": [
       "VBox()"
      ]
     },
     "metadata": {},
     "output_type": "display_data"
    },
    {
     "data": {
      "application/vnd.jupyter.widget-view+json": {
       "model_id": "",
       "version_major": 2,
       "version_minor": 0
      },
      "text/plain": [
       "FloatProgress(value=0.0, bar_style='info', description='Progress:', layout=Layout(height='25px', width='50%'),…"
      ]
     },
     "metadata": {},
     "output_type": "display_data"
    }
   ],
   "source": [
    "# Create Training and Test data.\n",
    "biketsets = bikepoints.randomSplit([0.8, 0.2])\n",
    "biketrain = biketsets[0].cache()\n",
    "bikevalid = biketsets[1].cache()"
   ]
  },
  {
   "cell_type": "markdown",
   "metadata": {},
   "source": [
    "# Linear Regression"
   ]
  },
  {
   "cell_type": "code",
   "execution_count": 70,
   "metadata": {
    "scrolled": true
   },
   "outputs": [
    {
     "data": {
      "application/vnd.jupyter.widget-view+json": {
       "model_id": "2e652dd2b6cd4fe8a04526cb2e4ae16b",
       "version_major": 2,
       "version_minor": 0
      },
      "text/plain": [
       "VBox()"
      ]
     },
     "metadata": {},
     "output_type": "display_data"
    },
    {
     "data": {
      "application/vnd.jupyter.widget-view+json": {
       "model_id": "",
       "version_major": 2,
       "version_minor": 0
      },
      "text/plain": [
       "FloatProgress(value=0.0, bar_style='info', description='Progress:', layout=Layout(height='25px', width='50%'),…"
      ]
     },
     "metadata": {},
     "output_type": "display_data"
    }
   ],
   "source": [
    "from pyspark.ml.regression import LinearRegression\n",
    "from pyspark.ml.evaluation import RegressionEvaluator\n",
    "lr = LinearRegression(maxIter=10, regParam=0.3, elasticNetParam=0.8)\n",
    "lrModel = lr.fit(biketrain)"
   ]
  },
  {
   "cell_type": "code",
   "execution_count": 71,
   "metadata": {
    "scrolled": true
   },
   "outputs": [
    {
     "data": {
      "application/vnd.jupyter.widget-view+json": {
       "model_id": "42709daa55964ab5b67b823a52f8a58c",
       "version_major": 2,
       "version_minor": 0
      },
      "text/plain": [
       "VBox()"
      ]
     },
     "metadata": {},
     "output_type": "display_data"
    },
    {
     "data": {
      "application/vnd.jupyter.widget-view+json": {
       "model_id": "",
       "version_major": 2,
       "version_minor": 0
      },
      "text/plain": [
       "FloatProgress(value=0.0, bar_style='info', description='Progress:', layout=Layout(height='25px', width='50%'),…"
      ]
     },
     "metadata": {},
     "output_type": "display_data"
    }
   ],
   "source": [
    "lrpredicts = lrModel.transform(bikevalid)"
   ]
  },
  {
   "cell_type": "code",
   "execution_count": 72,
   "metadata": {},
   "outputs": [
    {
     "data": {
      "application/vnd.jupyter.widget-view+json": {
       "model_id": "354c17821b8345cf858efc861f65129f",
       "version_major": 2,
       "version_minor": 0
      },
      "text/plain": [
       "VBox()"
      ]
     },
     "metadata": {},
     "output_type": "display_data"
    },
    {
     "data": {
      "application/vnd.jupyter.widget-view+json": {
       "model_id": "",
       "version_major": 2,
       "version_minor": 0
      },
      "text/plain": [
       "FloatProgress(value=0.0, bar_style='info', description='Progress:', layout=Layout(height='25px', width='50%'),…"
      ]
     },
     "metadata": {},
     "output_type": "display_data"
    }
   ],
   "source": [
    "lrevaluator = RegressionEvaluator(\n",
    "    labelCol=\"label\", predictionCol=\"prediction\", metricName=\"rmse\")\n",
    "rmse = lrevaluator.evaluate(lrpredicts)"
   ]
  },
  {
   "cell_type": "code",
   "execution_count": 73,
   "metadata": {},
   "outputs": [
    {
     "data": {
      "application/vnd.jupyter.widget-view+json": {
       "model_id": "0c9ccd7d64f0484597b1745467f00536",
       "version_major": 2,
       "version_minor": 0
      },
      "text/plain": [
       "VBox()"
      ]
     },
     "metadata": {},
     "output_type": "display_data"
    },
    {
     "data": {
      "application/vnd.jupyter.widget-view+json": {
       "model_id": "",
       "version_major": 2,
       "version_minor": 0
      },
      "text/plain": [
       "FloatProgress(value=0.0, bar_style='info', description='Progress:', layout=Layout(height='25px', width='50%'),…"
      ]
     },
     "metadata": {},
     "output_type": "display_data"
    },
    {
     "name": "stdout",
     "output_type": "stream",
     "text": [
      "3.429127000312138"
     ]
    }
   ],
   "source": [
    "rmse"
   ]
  },
  {
   "cell_type": "code",
   "execution_count": 74,
   "metadata": {},
   "outputs": [
    {
     "data": {
      "application/vnd.jupyter.widget-view+json": {
       "model_id": "4616e96a715e4563ba6b7e174fc55118",
       "version_major": 2,
       "version_minor": 0
      },
      "text/plain": [
       "VBox()"
      ]
     },
     "metadata": {},
     "output_type": "display_data"
    },
    {
     "data": {
      "application/vnd.jupyter.widget-view+json": {
       "model_id": "",
       "version_major": 2,
       "version_minor": 0
      },
      "text/plain": [
       "FloatProgress(value=0.0, bar_style='info', description='Progress:', layout=Layout(height='25px', width='50%'),…"
      ]
     },
     "metadata": {},
     "output_type": "display_data"
    }
   ],
   "source": [
    "from pyspark.ml.tuning import CrossValidator\n",
    "from pyspark.ml.tuning import ParamGridBuilder\n",
    "cv = CrossValidator().setEstimator(lr).setEvaluator(lrevaluator).setNumFolds(5)\n",
    "#ParamGridBuilder() – combinations of parameters and their values.\n",
    "paramGrid = ParamGridBuilder().addGrid(lr.maxIter, [1000]).addGrid(lr.regParam, [0.0001, 0.001, 0.005, 0.01, 0.05, 0.1, 0.5]).build()\n",
    "#setEstimatorParamMaps() takes ParamGridBuilder().\n",
    "cv.setEstimatorParamMaps(paramGrid)\n",
    "cvmodel = cv.fit(biketrain)"
   ]
  },
  {
   "cell_type": "code",
   "execution_count": 75,
   "metadata": {},
   "outputs": [
    {
     "data": {
      "application/vnd.jupyter.widget-view+json": {
       "model_id": "b891825c68e543fe81041bdbea226e84",
       "version_major": 2,
       "version_minor": 0
      },
      "text/plain": [
       "VBox()"
      ]
     },
     "metadata": {},
     "output_type": "display_data"
    },
    {
     "data": {
      "application/vnd.jupyter.widget-view+json": {
       "model_id": "",
       "version_major": 2,
       "version_minor": 0
      },
      "text/plain": [
       "FloatProgress(value=0.0, bar_style='info', description='Progress:', layout=Layout(height='25px', width='50%'),…"
      ]
     },
     "metadata": {},
     "output_type": "display_data"
    },
    {
     "name": "stdout",
     "output_type": "stream",
     "text": [
      "3.403741859193024"
     ]
    }
   ],
   "source": [
    "lrevaluator.evaluate(cvmodel.bestModel.transform(bikevalid))"
   ]
  },
  {
   "cell_type": "code",
   "execution_count": 76,
   "metadata": {},
   "outputs": [
    {
     "data": {
      "application/vnd.jupyter.widget-view+json": {
       "model_id": "3c2bacbbed124e14a2026ed58671f1a3",
       "version_major": 2,
       "version_minor": 0
      },
      "text/plain": [
       "VBox()"
      ]
     },
     "metadata": {},
     "output_type": "display_data"
    },
    {
     "data": {
      "application/vnd.jupyter.widget-view+json": {
       "model_id": "",
       "version_major": 2,
       "version_minor": 0
      },
      "text/plain": [
       "FloatProgress(value=0.0, bar_style='info', description='Progress:', layout=Layout(height='25px', width='50%'),…"
      ]
     },
     "metadata": {},
     "output_type": "display_data"
    },
    {
     "name": "stdout",
     "output_type": "stream",
     "text": [
      "+--------------------+------------------+-----------------+\n",
      "|            features|             label|       prediction|\n",
      "+--------------------+------------------+-----------------+\n",
      "|(9,[0,3,4,8],[39....|              15.0|9.084809534432035|\n",
      "|(9,[0,3,4,8],[39....|16.008333333333333|9.045661339034192|\n",
      "|(9,[0,3,4,8],[39....|              14.0|9.042649939388205|\n",
      "|(9,[0,3,4,8],[39....|               9.0|8.997478944698388|\n",
      "|(9,[0,3,4,8],[39....|              11.0|8.973387747530484|\n",
      "|(9,[0,3,4,8],[39....| 8.204166666666667| 8.94026235142462|\n",
      "|(9,[0,3,4,8],[39....|12.666666666666666|8.874011559212887|\n",
      "|(9,[0,3,4,8],[39....|11.666666666666666|9.157117553677683|\n",
      "|(9,[0,3,4,8],[39....|             11.59| 8.81378356629313|\n",
      "|(9,[0,3,4,8],[39....|7.7555555555555555|8.771623971249301|\n",
      "|(9,[0,3,4,8],[39....|10.841666666666667|8.677511277110566|\n",
      "|(9,[0,3,4,8],[39....|11.941212121212121|8.729464376205472|\n",
      "|(9,[0,3,4,8],[39....|              11.5|8.726452976559484|\n",
      "|(9,[0,3,4,8],[39....|               8.0|8.717418777621521|\n",
      "|(9,[0,3,4,8],[39....|              12.0|8.708384578683557|\n",
      "|(9,[0,3,4,8],[39....|              13.0|8.678270582223679|\n",
      "|(9,[0,3,4,8],[39....|10.566666666666666|8.410230192924306|\n",
      "|(9,[0,3,4,8],[39....|12.629629629629628|8.639122386825838|\n",
      "|(9,[0,3,4,8],[39....|              16.0| 8.63611098717985|\n",
      "|(9,[0,3,4,8],[39....|              11.0| 8.62105398894991|\n",
      "+--------------------+------------------+-----------------+\n",
      "only showing top 20 rows"
     ]
    }
   ],
   "source": [
    "cvmodel.bestModel.transform(bikevalid).show()"
   ]
  },
  {
   "cell_type": "code",
   "execution_count": 43,
   "metadata": {},
   "outputs": [
    {
     "data": {
      "application/vnd.jupyter.widget-view+json": {
       "model_id": "738818417dba41aa9b9f334c7d7bdf58",
       "version_major": 2,
       "version_minor": 0
      },
      "text/plain": [
       "VBox()"
      ]
     },
     "metadata": {},
     "output_type": "display_data"
    },
    {
     "data": {
      "application/vnd.jupyter.widget-view+json": {
       "model_id": "",
       "version_major": 2,
       "version_minor": 0
      },
      "text/plain": [
       "FloatProgress(value=0.0, bar_style='info', description='Progress:', layout=Layout(height='25px', width='50%'),…"
      ]
     },
     "metadata": {},
     "output_type": "display_data"
    }
   ],
   "source": [
    "v1=cvmodel.bestModel.transform(bikevalid)"
   ]
  },
  {
   "cell_type": "code",
   "execution_count": 89,
   "metadata": {},
   "outputs": [
    {
     "data": {
      "application/vnd.jupyter.widget-view+json": {
       "model_id": "d6bfb241c12149028340b944bfa75adf",
       "version_major": 2,
       "version_minor": 0
      },
      "text/plain": [
       "VBox()"
      ]
     },
     "metadata": {},
     "output_type": "display_data"
    },
    {
     "data": {
      "application/vnd.jupyter.widget-view+json": {
       "model_id": "",
       "version_major": 2,
       "version_minor": 0
      },
      "text/plain": [
       "FloatProgress(value=0.0, bar_style='info', description='Progress:', layout=Layout(height='25px', width='50%'),…"
      ]
     },
     "metadata": {},
     "output_type": "display_data"
    }
   ],
   "source": [
    "v1.to_csv(\"s3://msds694.proj/data/plot1.csv\")"
   ]
  },
  {
   "cell_type": "markdown",
   "metadata": {},
   "source": [
    "# Decision Tree"
   ]
  },
  {
   "cell_type": "code",
   "execution_count": 77,
   "metadata": {},
   "outputs": [
    {
     "data": {
      "application/vnd.jupyter.widget-view+json": {
       "model_id": "a3add0ef8e344d0a885306680666ee9f",
       "version_major": 2,
       "version_minor": 0
      },
      "text/plain": [
       "VBox()"
      ]
     },
     "metadata": {},
     "output_type": "display_data"
    },
    {
     "data": {
      "application/vnd.jupyter.widget-view+json": {
       "model_id": "",
       "version_major": 2,
       "version_minor": 0
      },
      "text/plain": [
       "FloatProgress(value=0.0, bar_style='info', description='Progress:', layout=Layout(height='25px', width='50%'),…"
      ]
     },
     "metadata": {},
     "output_type": "display_data"
    }
   ],
   "source": [
    "# Train the data.\n",
    "from pyspark.ml.regression import DecisionTreeRegressor\n",
    "from pyspark.ml.evaluation import RegressionEvaluator\n",
    "dt = DecisionTreeRegressor(maxDepth=10, maxBins= 10, minInstancesPerNode=3, minInfoGain = 0)\n",
    "dtmodel = dt.fit(biketrain)"
   ]
  },
  {
   "cell_type": "code",
   "execution_count": 78,
   "metadata": {},
   "outputs": [
    {
     "data": {
      "application/vnd.jupyter.widget-view+json": {
       "model_id": "c8bc532581784a648f3c3fd18864edcf",
       "version_major": 2,
       "version_minor": 0
      },
      "text/plain": [
       "VBox()"
      ]
     },
     "metadata": {},
     "output_type": "display_data"
    },
    {
     "data": {
      "application/vnd.jupyter.widget-view+json": {
       "model_id": "",
       "version_major": 2,
       "version_minor": 0
      },
      "text/plain": [
       "FloatProgress(value=0.0, bar_style='info', description='Progress:', layout=Layout(height='25px', width='50%'),…"
      ]
     },
     "metadata": {},
     "output_type": "display_data"
    }
   ],
   "source": [
    "dtpredicts = dtmodel.transform(bikevalid)"
   ]
  },
  {
   "cell_type": "code",
   "execution_count": 79,
   "metadata": {
    "scrolled": true
   },
   "outputs": [
    {
     "data": {
      "application/vnd.jupyter.widget-view+json": {
       "model_id": "2701b8f192864179afae7f7b34713500",
       "version_major": 2,
       "version_minor": 0
      },
      "text/plain": [
       "VBox()"
      ]
     },
     "metadata": {},
     "output_type": "display_data"
    },
    {
     "data": {
      "application/vnd.jupyter.widget-view+json": {
       "model_id": "",
       "version_major": 2,
       "version_minor": 0
      },
      "text/plain": [
       "FloatProgress(value=0.0, bar_style='info', description='Progress:', layout=Layout(height='25px', width='50%'),…"
      ]
     },
     "metadata": {},
     "output_type": "display_data"
    },
    {
     "name": "stdout",
     "output_type": "stream",
     "text": [
      "Root Mean Squared Error (RMSE) on test data = 2.93307"
     ]
    }
   ],
   "source": [
    "dtevaluator = RegressionEvaluator(\n",
    "    labelCol=\"label\", predictionCol=\"prediction\", metricName=\"rmse\")\n",
    "rmse = dtevaluator.evaluate(dtpredicts)\n",
    "print(\"Root Mean Squared Error (RMSE) on test data = %g\" % rmse)"
   ]
  },
  {
   "cell_type": "code",
   "execution_count": 80,
   "metadata": {},
   "outputs": [
    {
     "data": {
      "application/vnd.jupyter.widget-view+json": {
       "model_id": "5932cb0ad6ae4cedb1a090ece1c0f09d",
       "version_major": 2,
       "version_minor": 0
      },
      "text/plain": [
       "VBox()"
      ]
     },
     "metadata": {},
     "output_type": "display_data"
    },
    {
     "data": {
      "application/vnd.jupyter.widget-view+json": {
       "model_id": "",
       "version_major": 2,
       "version_minor": 0
      },
      "text/plain": [
       "FloatProgress(value=0.0, bar_style='info', description='Progress:', layout=Layout(height='25px', width='50%'),…"
      ]
     },
     "metadata": {},
     "output_type": "display_data"
    }
   ],
   "source": [
    "from pyspark.ml.tuning import CrossValidator\n",
    "from pyspark.ml.tuning import ParamGridBuilder\n",
    "cv = CrossValidator().setEstimator(dt).setEvaluator(dtevaluator).setNumFolds(5)\n",
    "#ParamGridBuilder() – combinations of parameters and their values.\n",
    "paramGrid = ParamGridBuilder().addGrid(dt.maxDepth, [9,10,11]).addGrid(dt.minInstancesPerNode, [3,4,5,6,7]).build()\n",
    "#setEstimatorParamMaps() takes ParamGridBuilder().\n",
    "cv.setEstimatorParamMaps(paramGrid)\n",
    "cvmodel = cv.fit(biketrain)"
   ]
  },
  {
   "cell_type": "code",
   "execution_count": 81,
   "metadata": {
    "scrolled": true
   },
   "outputs": [
    {
     "data": {
      "application/vnd.jupyter.widget-view+json": {
       "model_id": "1c67aa6d093f43c78b30a251ad10411a",
       "version_major": 2,
       "version_minor": 0
      },
      "text/plain": [
       "VBox()"
      ]
     },
     "metadata": {},
     "output_type": "display_data"
    },
    {
     "data": {
      "application/vnd.jupyter.widget-view+json": {
       "model_id": "",
       "version_major": 2,
       "version_minor": 0
      },
      "text/plain": [
       "FloatProgress(value=0.0, bar_style='info', description='Progress:', layout=Layout(height='25px', width='50%'),…"
      ]
     },
     "metadata": {},
     "output_type": "display_data"
    },
    {
     "name": "stdout",
     "output_type": "stream",
     "text": [
      "2.9212622625208473"
     ]
    }
   ],
   "source": [
    "dtevaluator.evaluate(cvmodel.bestModel.transform(bikevalid))"
   ]
  },
  {
   "cell_type": "markdown",
   "metadata": {},
   "source": [
    "# Random Forest"
   ]
  },
  {
   "cell_type": "code",
   "execution_count": 22,
   "metadata": {},
   "outputs": [
    {
     "data": {
      "application/vnd.jupyter.widget-view+json": {
       "model_id": "b6b51f1e9b40492ebc5f73beb4d73c51",
       "version_major": 2,
       "version_minor": 0
      },
      "text/plain": [
       "VBox()"
      ]
     },
     "metadata": {},
     "output_type": "display_data"
    },
    {
     "data": {
      "application/vnd.jupyter.widget-view+json": {
       "model_id": "",
       "version_major": 2,
       "version_minor": 0
      },
      "text/plain": [
       "FloatProgress(value=0.0, bar_style='info', description='Progress:', layout=Layout(height='25px', width='50%'),…"
      ]
     },
     "metadata": {},
     "output_type": "display_data"
    }
   ],
   "source": [
    "from pyspark.ml.regression import RandomForestRegressor\n",
    "from pyspark.ml.evaluation import RegressionEvaluator"
   ]
  },
  {
   "cell_type": "code",
   "execution_count": 23,
   "metadata": {},
   "outputs": [
    {
     "data": {
      "application/vnd.jupyter.widget-view+json": {
       "model_id": "c7a923975ba54b2f8fe27c6914cc79e9",
       "version_major": 2,
       "version_minor": 0
      },
      "text/plain": [
       "VBox()"
      ]
     },
     "metadata": {},
     "output_type": "display_data"
    },
    {
     "data": {
      "application/vnd.jupyter.widget-view+json": {
       "model_id": "",
       "version_major": 2,
       "version_minor": 0
      },
      "text/plain": [
       "FloatProgress(value=0.0, bar_style='info', description='Progress:', layout=Layout(height='25px', width='50%'),…"
      ]
     },
     "metadata": {},
     "output_type": "display_data"
    }
   ],
   "source": [
    "rf = RandomForestRegressor(  ) \n",
    "rfmodel = rf.fit(biketrain)\n",
    "rfpredicts = rfmodel.transform(bikevalid)"
   ]
  },
  {
   "cell_type": "code",
   "execution_count": 24,
   "metadata": {},
   "outputs": [
    {
     "data": {
      "application/vnd.jupyter.widget-view+json": {
       "model_id": "7ec3e913bb1d46fbb3f4ffee658b48ce",
       "version_major": 2,
       "version_minor": 0
      },
      "text/plain": [
       "VBox()"
      ]
     },
     "metadata": {},
     "output_type": "display_data"
    },
    {
     "data": {
      "application/vnd.jupyter.widget-view+json": {
       "model_id": "",
       "version_major": 2,
       "version_minor": 0
      },
      "text/plain": [
       "FloatProgress(value=0.0, bar_style='info', description='Progress:', layout=Layout(height='25px', width='50%'),…"
      ]
     },
     "metadata": {},
     "output_type": "display_data"
    },
    {
     "name": "stdout",
     "output_type": "stream",
     "text": [
      "Root Mean Squared Error (RMSE) on test data = 3.20065"
     ]
    }
   ],
   "source": [
    "rfevaluator = RegressionEvaluator(\n",
    "    labelCol=\"label\", predictionCol=\"prediction\", metricName=\"rmse\")\n",
    "rmse = rfevaluator.evaluate(rfpredicts)\n",
    "print(\"Root Mean Squared Error (RMSE) on test data = %g\" % rmse)"
   ]
  },
  {
   "cell_type": "code",
   "execution_count": 25,
   "metadata": {
    "scrolled": true
   },
   "outputs": [
    {
     "data": {
      "application/vnd.jupyter.widget-view+json": {
       "model_id": "37abd15414bc4995936246efb2d15217",
       "version_major": 2,
       "version_minor": 0
      },
      "text/plain": [
       "VBox()"
      ]
     },
     "metadata": {},
     "output_type": "display_data"
    },
    {
     "data": {
      "application/vnd.jupyter.widget-view+json": {
       "model_id": "",
       "version_major": 2,
       "version_minor": 0
      },
      "text/plain": [
       "FloatProgress(value=0.0, bar_style='info', description='Progress:', layout=Layout(height='25px', width='50%'),…"
      ]
     },
     "metadata": {},
     "output_type": "display_data"
    }
   ],
   "source": [
    "from pyspark.ml.tuning import CrossValidator\n",
    "from pyspark.ml.tuning import ParamGridBuilder\n",
    "cv = CrossValidator().setEstimator(rf).setEvaluator(rfevaluator).setNumFolds(5)\n",
    "#ParamGridBuilder() – combinations of parameters and their values.\n",
    "paramGrid = ParamGridBuilder().addGrid(rf.maxDepth, [9,10,11]).addGrid(rf.minInstancesPerNode, [3,4,5,6,7]).build()\n",
    "#setEstimatorParamMaps() takes ParamGridBuilder().\n",
    "cv.setEstimatorParamMaps(paramGrid)\n",
    "cvmodel = cv.fit(biketrain)"
   ]
  },
  {
   "cell_type": "code",
   "execution_count": 27,
   "metadata": {
    "scrolled": true
   },
   "outputs": [
    {
     "data": {
      "application/vnd.jupyter.widget-view+json": {
       "model_id": "c26e9c0793184853a0c66f137eb0fd0a",
       "version_major": 2,
       "version_minor": 0
      },
      "text/plain": [
       "VBox()"
      ]
     },
     "metadata": {},
     "output_type": "display_data"
    },
    {
     "data": {
      "application/vnd.jupyter.widget-view+json": {
       "model_id": "",
       "version_major": 2,
       "version_minor": 0
      },
      "text/plain": [
       "FloatProgress(value=0.0, bar_style='info', description='Progress:', layout=Layout(height='25px', width='50%'),…"
      ]
     },
     "metadata": {},
     "output_type": "display_data"
    },
    {
     "name": "stdout",
     "output_type": "stream",
     "text": [
      "2.8672035891659977"
     ]
    }
   ],
   "source": [
    "rfevaluator.evaluate(cvmodel.bestModel.transform(bikevalid))"
   ]
  },
  {
   "cell_type": "code",
   "execution_count": 28,
   "metadata": {},
   "outputs": [
    {
     "data": {
      "application/vnd.jupyter.widget-view+json": {
       "model_id": "60918f2a6d5f46138fb1f791018673bc",
       "version_major": 2,
       "version_minor": 0
      },
      "text/plain": [
       "VBox()"
      ]
     },
     "metadata": {},
     "output_type": "display_data"
    },
    {
     "data": {
      "application/vnd.jupyter.widget-view+json": {
       "model_id": "",
       "version_major": 2,
       "version_minor": 0
      },
      "text/plain": [
       "FloatProgress(value=0.0, bar_style='info', description='Progress:', layout=Layout(height='25px', width='50%'),…"
      ]
     },
     "metadata": {},
     "output_type": "display_data"
    },
    {
     "name": "stdout",
     "output_type": "stream",
     "text": [
      "DataFrame[features: vector, label: double, prediction: double]"
     ]
    }
   ],
   "source": [
    "cvmodel.bestModel.transform(bikevalid)"
   ]
  },
  {
   "cell_type": "code",
   "execution_count": 30,
   "metadata": {},
   "outputs": [
    {
     "data": {
      "application/vnd.jupyter.widget-view+json": {
       "model_id": "70cdca98a65646bcbc9c938652fbd2d2",
       "version_major": 2,
       "version_minor": 0
      },
      "text/plain": [
       "VBox()"
      ]
     },
     "metadata": {},
     "output_type": "display_data"
    },
    {
     "data": {
      "application/vnd.jupyter.widget-view+json": {
       "model_id": "",
       "version_major": 2,
       "version_minor": 0
      },
      "text/plain": [
       "FloatProgress(value=0.0, bar_style='info', description='Progress:', layout=Layout(height='25px', width='50%'),…"
      ]
     },
     "metadata": {},
     "output_type": "display_data"
    }
   ],
   "source": [
    "v1=cvmodel.bestModel.transform(bikevalid)"
   ]
  },
  {
   "cell_type": "code",
   "execution_count": 33,
   "metadata": {},
   "outputs": [
    {
     "data": {
      "application/vnd.jupyter.widget-view+json": {
       "model_id": "22c66c945e7a47b78018faa4779e7477",
       "version_major": 2,
       "version_minor": 0
      },
      "text/plain": [
       "VBox()"
      ]
     },
     "metadata": {},
     "output_type": "display_data"
    },
    {
     "data": {
      "application/vnd.jupyter.widget-view+json": {
       "model_id": "",
       "version_major": 2,
       "version_minor": 0
      },
      "text/plain": [
       "FloatProgress(value=0.0, bar_style='info', description='Progress:', layout=Layout(height='25px', width='50%'),…"
      ]
     },
     "metadata": {},
     "output_type": "display_data"
    }
   ],
   "source": [
    "#v1=v1.toPandas()"
   ]
  },
  {
   "cell_type": "code",
   "execution_count": 36,
   "metadata": {},
   "outputs": [
    {
     "data": {
      "application/vnd.jupyter.widget-view+json": {
       "model_id": "fc3b05d5842b4bae8adf99cc666226b2",
       "version_major": 2,
       "version_minor": 0
      },
      "text/plain": [
       "VBox()"
      ]
     },
     "metadata": {},
     "output_type": "display_data"
    },
    {
     "data": {
      "application/vnd.jupyter.widget-view+json": {
       "model_id": "",
       "version_major": 2,
       "version_minor": 0
      },
      "text/plain": [
       "FloatProgress(value=0.0, bar_style='info', description='Progress:', layout=Layout(height='25px', width='50%'),…"
      ]
     },
     "metadata": {},
     "output_type": "display_data"
    }
   ],
   "source": [
    "#v1.to_csv(\"s3://msds694.proj/data/plot2.csv\")"
   ]
  },
  {
   "cell_type": "markdown",
   "metadata": {},
   "source": [
    "# Gradient Boost Regressor"
   ]
  },
  {
   "cell_type": "code",
   "execution_count": null,
   "metadata": {},
   "outputs": [],
   "source": [
    "from pyspark.ml.regression import GBTRegressor\n",
    "gbt = GBTRegressor(featuresCol = 'features', labelCol = 'label', maxIter=10)\n",
    "gbt_model = gbt.fit(biketrain)\n"
   ]
  },
  {
   "cell_type": "code",
   "execution_count": null,
   "metadata": {},
   "outputs": [],
   "source": [
    "gbt_predictions = gbt_model.transform(bikevalid)\n",
    "gbt_predictions.select('prediction', 'label', 'features').show(25)"
   ]
  },
  {
   "cell_type": "code",
   "execution_count": null,
   "metadata": {},
   "outputs": [],
   "source": [
    "from pyspark.ml.evaluation import RegressionEvaluator\n",
    "evaluator = RegressionEvaluator(\n",
    "        labelCol=\"label\", predictionCol=\"prediction\", metricName=\"rmse\")\n",
    "rmse = evaluator.evaluate(gbt_predictions)\n",
    "print(\"Root Mean Squared Error (RMSE) on test data = %g\" % rmse)"
   ]
  },
  {
   "cell_type": "code",
   "execution_count": null,
   "metadata": {},
   "outputs": [],
   "source": [
    "from pyspark.ml.tuning import ParamGridBuilder, CrossValidator\n",
    "paramGrid = (ParamGridBuilder()\n",
    "             .addGrid(gbt.maxDepth, [2, 4, 6])\n",
    "             .addGrid(gbt.maxBins, [20, 60])\n",
    "             .addGrid(gbt.maxIter, [10, 20])\n",
    "             .build())\n",
    "cv = CrossValidator(estimator=gbt, estimatorParamMaps=paramGrid, evaluator=evaluator, numFolds=5)\n",
    "cvModel = cv.fit(train_data)\n",
    "predictions = cvModel.transform(test_data)\n",
    "evaluator.evaluate(predictions)"
   ]
  },
  {
   "cell_type": "code",
   "execution_count": null,
   "metadata": {},
   "outputs": [],
   "source": []
  },
  {
   "cell_type": "code",
   "execution_count": null,
   "metadata": {},
   "outputs": [],
   "source": []
  },
  {
   "cell_type": "code",
   "execution_count": null,
   "metadata": {},
   "outputs": [],
   "source": []
  }
 ],
 "metadata": {
  "kernelspec": {
   "display_name": "Python 3",
   "language": "python",
   "name": "python3"
  },
  "language_info": {
   "codemirror_mode": {
    "name": "ipython",
    "version": 3
   },
   "file_extension": ".py",
   "mimetype": "text/x-python",
   "name": "python",
   "nbconvert_exporter": "python",
   "pygments_lexer": "ipython3",
   "version": "3.7.4"
  }
 },
 "nbformat": 4,
 "nbformat_minor": 2
}
